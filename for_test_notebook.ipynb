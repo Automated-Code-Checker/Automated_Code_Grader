{
 "cells": [
  {
   "cell_type": "markdown",
   "metadata": {
    "colab_type": "text",
    "id": "mECUxIi85Cg9"
   },
   "source": [
    "# Import our modules and torch\n"
   ]
  },
  {
   "cell_type": "code",
   "execution_count": 2,
   "metadata": {
    "colab": {},
    "colab_type": "code",
    "id": "PK_PH-Wr0LAL"
   },
   "outputs": [],
   "source": [
    "import create_vocab\n",
    "import data_to_tensors\n",
    "import model_implementation\n",
    "from train_class import TrainingModule\n",
    "\n",
    "import torch\n",
    "import torch.nn as nn\n",
    "import torch.nn.functional as F\n",
    "import random \n",
    "\n",
    "from torch.utils.data import DataLoader"
   ]
  },
  {
   "cell_type": "markdown",
   "metadata": {
    "colab_type": "text",
    "id": "-BiElxB55n7d"
   },
   "source": [
    "# Because their data looks like this: we have 3 main dictionaries:\n",
    "* dictionary of all words in the sheets\n",
    "* dictionary of all paths(they are already hashed and converted to digits)\n",
    "* dictionary of targets(method names)\n"
   ]
  },
  {
   "cell_type": "code",
   "execution_count": 2,
   "metadata": {
    "colab": {},
    "colab_type": "code",
    "id": "3BunJzhfZ_jd"
   },
   "outputs": [],
   "source": [
<<<<<<< HEAD
    "dict_path = 'data/CODES_emb/CODES_emb.dict.c2v'\n",
=======
    "data_folder = 'Codes_embedding'\n",
    "dataset_name = 'Codes_embedding'\n",
    "dict_path = 'data/'+ data_folder + '/' + dataset_name + '.dict.c2v'\n",
>>>>>>> 44e766011a2cdff723a935e882041412b01005dd
    "word2idx, path2idx, target2idx, idx2target = create_vocab.create_vocab(dict_path)"
   ]
  },
  {
   "cell_type": "markdown",
   "metadata": {
    "colab_type": "text",
    "id": "OUJ5hZCS_DnF"
   },
   "source": [
    "* 1) data_iterator Returns 1024 batches each(the size can be changed when calling the function)\n",
    "* 2) from below you can see how the data is accessed, then 3 vectors are fed to the model(sorry for such names, I think you will understand from the arguments of the model that the output is)\n",
    "* 3) well, at the output we have code_vector and the second vector-probability distribution between all labels in target_vocab(dictionary of method names)"
   ]
  },
  {
   "cell_type": "code",
<<<<<<< HEAD
   "execution_count": 3,
=======
   "execution_count": 4,
>>>>>>> 44e766011a2cdff723a935e882041412b01005dd
   "metadata": {
    "colab": {},
    "colab_type": "code",
    "id": "WctOcjFevCYv"
   },
   "outputs": [],
   "source": [
<<<<<<< HEAD
    "# path_for_train = 'data/functions_emb/functions_emb.train.c2v'\n",
    "path_for_train = 'data/CODES_emb/CODES_emb.train.c2v'\n",
=======
    "path_for_train = 'data/'+ data_folder + '/' + dataset_name + '.train.c2v'\n",
>>>>>>> 44e766011a2cdff723a935e882041412b01005dd
    "train_dataset = data_to_tensors.TextDataset(path_for_train, \n",
    "                                                    word2idx, \n",
    "                                                    path2idx, \n",
    "                                                    target2idx)\n",
    "\n",
<<<<<<< HEAD
    "# path_for_val = 'data/functions_emb/functions_emb.val.c2v'\n",
    "path_for_val = 'data/CODES_emb/CODES_emb.val.c2v'\n",
=======
    "path_for_val = 'data/'+ data_folder + '/' + dataset_name + '.val.c2v'\n",
>>>>>>> 44e766011a2cdff723a935e882041412b01005dd
    "val_dataset = data_to_tensors.TextDataset(path_for_val, \n",
    "                                                    word2idx, \n",
    "                                                    path2idx, \n",
    "                                                    target2idx)\n",
<<<<<<< HEAD
    "# path_for_test = 'data/functions_emb/functions_emb.test.c2v'\n",
    "path_for_test = 'data/CODES_emb/CODES_emb.test.c2v'\n",
=======
    "\n",
    "path_for_test = 'data/'+ data_folder + '/' + dataset_name + '.test.c2v'\n",
>>>>>>> 44e766011a2cdff723a935e882041412b01005dd
    "test_dataset = data_to_tensors.TextDataset(path_for_test, \n",
    "                                                    word2idx, \n",
    "                                                    path2idx, \n",
    "                                                    target2idx)\n",
    "\n",
    "train_loader = DataLoader(train_dataset, batch_size=512, shuffle=True)\n",
    "val_loader = DataLoader(val_dataset, batch_size=512, shuffle=False)\n",
    "test_loader = DataLoader(test_dataset, batch_size=512, shuffle=False)"
   ]
  },
  {
   "cell_type": "markdown",
   "metadata": {
    "colab_type": "text",
    "id": "rQx0PLsMopZ1"
   },
   "source": [
    "# Train"
   ]
  },
  {
   "cell_type": "code",
<<<<<<< HEAD
   "execution_count": 4,
=======
   "execution_count": 5,
>>>>>>> 44e766011a2cdff723a935e882041412b01005dd
   "metadata": {
    "colab": {},
    "colab_type": "code",
    "id": "DGiy8Phzhk3w"
   },
   "outputs": [],
   "source": [
    "SEED = 1337\n",
    "random.seed(SEED)\n",
    "torch.manual_seed(SEED)\n",
    "torch.cuda.manual_seed(SEED)\n",
    "torch.backends.cudnn.deterministic = True"
   ]
  },
  {
   "cell_type": "markdown",
   "metadata": {
    "colab_type": "text",
    "id": "vHHx7d61Cmgt"
   },
   "source": [
    "# Model choose\n",
    "\n",
    "* if you want to use the original model: bert = False\n",
    "* if you want to use Bert model: bert = True\n"
   ]
  },
  {
   "cell_type": "code",
<<<<<<< HEAD
   "execution_count": 5,
=======
   "execution_count": 6,
>>>>>>> 44e766011a2cdff723a935e882041412b01005dd
   "metadata": {
    "colab": {},
    "colab_type": "code",
    "id": "qcu360GpE_eA"
   },
   "outputs": [],
   "source": [
    "bert = False"
   ]
  },
  {
   "cell_type": "code",
<<<<<<< HEAD
   "execution_count": 6,
=======
   "execution_count": 7,
>>>>>>> 44e766011a2cdff723a935e882041412b01005dd
   "metadata": {
    "colab": {},
    "colab_type": "code",
    "id": "e8jnWVAnDEz1"
   },
   "outputs": [],
   "source": [
    "# In case of bert\n",
    "bert_params = dict()\n",
    "bert_params['num_attention_heads'] = 1\n",
    "bert_params['num_transformer_layers'] = 1\n",
    "bert_params['intermediate_size'] = 32\n",
    "\n",
    "if bert:\n",
    "    model = model_implementation.code2vec_model(values_vocab_size = len(word2idx), \n",
    "                             paths_vocab_size = len(path2idx), \n",
    "                             labels_num = len(target2idx), bert=bert, bert_params=bert_params)"
   ]
  },
  {
   "cell_type": "code",
<<<<<<< HEAD
   "execution_count": 7,
=======
   "execution_count": 8,
>>>>>>> 44e766011a2cdff723a935e882041412b01005dd
   "metadata": {
    "colab": {},
    "colab_type": "code",
    "id": "UUd5Yv3fmrBQ"
   },
   "outputs": [],
   "source": [
    "# In case if not bert\n",
    "if not bert:\n",
    "    model = model_implementation.code2vec_model(values_vocab_size = len(word2idx), \n",
    "                                 paths_vocab_size = len(path2idx), \n",
    "                                 labels_num = len(target2idx))"
   ]
  },
  {
   "cell_type": "code",
<<<<<<< HEAD
   "execution_count": 8,
=======
   "execution_count": 9,
>>>>>>> 44e766011a2cdff723a935e882041412b01005dd
   "metadata": {
    "colab": {
     "base_uri": "https://localhost:8080/",
     "height": 84
    },
    "colab_type": "code",
    "id": "CPVWRPDmmyUQ",
    "outputId": "a2fdd942-1512-4ba4-e99e-288b7eae342a"
   },
   "outputs": [
    {
     "name": "stdout",
     "output_type": "stream",
     "text": [
<<<<<<< HEAD
      "Epoch 1: train loss - 1.74724, validation loss - 1.2532\n",
      "\t Validation: precision - 0.48437, recall - 0.48437, f1_score - 0.48437\n",
      "Elapsed time: 2.629\n",
      "----------------------------------------------------------------------\n",
      "Epoch 2: train loss - 1.18073, validation loss - 1.2257\n",
      "\t Validation: precision - 0.42187, recall - 0.42187, f1_score - 0.42187\n",
      "Elapsed time: 3.183\n",
      "----------------------------------------------------------------------\n",
      "Epoch 3: train loss - 1.08439, validation loss - 1.19816\n",
      "\t Validation: precision - 0.51562, recall - 0.51562, f1_score - 0.51562\n",
      "Elapsed time: 4.885\n",
      "----------------------------------------------------------------------\n",
      "Epoch 4: train loss - 1.0657, validation loss - 1.18909\n",
      "\t Validation: precision - 0.51562, recall - 0.51562, f1_score - 0.51562\n",
      "Elapsed time: 7.386\n",
      "----------------------------------------------------------------------\n",
      "Epoch 5: train loss - 1.07028, validation loss - 1.17959\n",
      "\t Validation: precision - 0.5, recall - 0.5, f1_score - 0.5\n",
      "Elapsed time: 10.104\n",
      "----------------------------------------------------------------------\n",
      "Epoch 6: train loss - 1.05018, validation loss - 1.15359\n",
      "\t Validation: precision - 0.46875, recall - 0.46875, f1_score - 0.46875\n",
      "Elapsed time: 11.904\n",
      "----------------------------------------------------------------------\n",
      "Epoch 7: train loss - 1.0531, validation loss - 1.13217\n",
      "\t Validation: precision - 0.57812, recall - 0.57812, f1_score - 0.57812\n",
      "Elapsed time: 12.783\n",
      "----------------------------------------------------------------------\n",
      "Epoch 8: train loss - 1.0493, validation loss - 1.15069\n",
      "\t Validation: precision - 0.5625, recall - 0.5625, f1_score - 0.5625\n",
      "Elapsed time: 13.134\n",
      "----------------------------------------------------------------------\n",
      "Epoch 9: train loss - 1.01458, validation loss - 1.15737\n",
      "\t Validation: precision - 0.48437, recall - 0.48437, f1_score - 0.48437\n",
      "Elapsed time: 13.366\n",
      "----------------------------------------------------------------------\n",
      "Epoch 10: train loss - 1.03102, validation loss - 1.14269\n",
      "\t Validation: precision - 0.54687, recall - 0.54687, f1_score - 0.54687\n",
      "Elapsed time: 12.831\n",
      "----------------------------------------------------------------------\n",
      "Epoch 11: train loss - 0.99863, validation loss - 1.12\n",
      "\t Validation: precision - 0.54687, recall - 0.54687, f1_score - 0.54687\n",
      "Elapsed time: 13.268\n",
      "----------------------------------------------------------------------\n",
      "Epoch 12: train loss - 0.98571, validation loss - 1.10631\n",
      "\t Validation: precision - 0.59375, recall - 0.59375, f1_score - 0.59375\n",
      "Elapsed time: 13.255\n",
      "----------------------------------------------------------------------\n",
      "Epoch 13: train loss - 0.95404, validation loss - 1.11346\n",
      "\t Validation: precision - 0.54687, recall - 0.54687, f1_score - 0.54687\n",
      "Elapsed time: 13.739\n",
      "----------------------------------------------------------------------\n",
      "Epoch 14: train loss - 0.97285, validation loss - 1.10936\n",
      "\t Validation: precision - 0.54687, recall - 0.54687, f1_score - 0.54687\n",
      "Elapsed time: 13.773\n",
      "----------------------------------------------------------------------\n",
      "Epoch 15: train loss - 0.97656, validation loss - 1.08667\n",
      "\t Validation: precision - 0.57812, recall - 0.57812, f1_score - 0.57812\n",
      "Elapsed time: 15.267\n",
      "----------------------------------------------------------------------\n",
      "Epoch 16: train loss - 0.95374, validation loss - 1.05466\n",
      "\t Validation: precision - 0.6875, recall - 0.6875, f1_score - 0.6875\n",
      "Elapsed time: 15.651\n",
      "----------------------------------------------------------------------\n",
      "Epoch 17: train loss - 0.94873, validation loss - 1.03191\n",
      "\t Validation: precision - 0.67187, recall - 0.67187, f1_score - 0.67187\n",
      "Elapsed time: 15.953\n",
      "----------------------------------------------------------------------\n",
      "Epoch 18: train loss - 0.91973, validation loss - 1.05156\n",
      "\t Validation: precision - 0.625, recall - 0.625, f1_score - 0.625\n",
      "Elapsed time: 15.031\n",
      "----------------------------------------------------------------------\n",
      "Epoch 19: train loss - 0.93325, validation loss - 1.05641\n",
      "\t Validation: precision - 0.59375, recall - 0.59375, f1_score - 0.59375\n",
      "Elapsed time: 15.080\n",
      "----------------------------------------------------------------------\n",
      "Epoch 20: train loss - 0.93118, validation loss - 1.06296\n",
      "\t Validation: precision - 0.625, recall - 0.625, f1_score - 0.625\n",
      "Elapsed time: 15.056\n",
      "----------------------------------------------------------------------\n",
      "Epoch 21: train loss - 0.86344, validation loss - 1.02285\n",
      "\t Validation: precision - 0.67187, recall - 0.67187, f1_score - 0.67187\n",
      "Elapsed time: 14.336\n",
      "----------------------------------------------------------------------\n",
      "Epoch 22: train loss - 0.81372, validation loss - 0.939\n",
      "\t Validation: precision - 0.73437, recall - 0.73437, f1_score - 0.73437\n",
      "Elapsed time: 14.212\n",
      "----------------------------------------------------------------------\n",
      "Epoch 23: train loss - 0.7298, validation loss - 0.87149\n",
      "\t Validation: precision - 0.6875, recall - 0.6875, f1_score - 0.6875\n",
      "Elapsed time: 13.653\n",
      "----------------------------------------------------------------------\n",
      "Epoch 24: train loss - 0.66703, validation loss - 0.83831\n",
      "\t Validation: precision - 0.6875, recall - 0.6875, f1_score - 0.6875\n",
      "Elapsed time: 13.559\n",
      "----------------------------------------------------------------------\n",
      "Epoch 25: train loss - 0.61411, validation loss - 0.80494\n",
      "\t Validation: precision - 0.6875, recall - 0.6875, f1_score - 0.6875\n",
      "Elapsed time: 13.479\n",
      "----------------------------------------------------------------------\n",
      "Epoch 26: train loss - 0.60469, validation loss - 0.78868\n",
      "\t Validation: precision - 0.6875, recall - 0.6875, f1_score - 0.6875\n",
      "Elapsed time: 13.256\n",
      "----------------------------------------------------------------------\n",
      "Epoch 27: train loss - 0.52084, validation loss - 0.78577\n",
      "\t Validation: precision - 0.6875, recall - 0.6875, f1_score - 0.6875\n",
      "Elapsed time: 13.480\n",
      "----------------------------------------------------------------------\n",
      "Epoch 28: train loss - 0.52906, validation loss - 0.81489\n",
      "\t Validation: precision - 0.70312, recall - 0.70312, f1_score - 0.70312\n",
      "Elapsed time: 13.512\n",
      "----------------------------------------------------------------------\n",
      "Epoch 29: train loss - 0.49701, validation loss - 0.81573\n",
      "\t Validation: precision - 0.71875, recall - 0.71875, f1_score - 0.71875\n",
      "Elapsed time: 13.144\n",
      "----------------------------------------------------------------------\n",
      "Epoch 30: train loss - 0.45214, validation loss - 0.79362\n",
      "\t Validation: precision - 0.73437, recall - 0.73437, f1_score - 0.73437\n",
      "Elapsed time: 13.347\n",
      "----------------------------------------------------------------------\n",
      "Epoch 31: train loss - 0.42412, validation loss - 0.75784\n",
      "\t Validation: precision - 0.76562, recall - 0.76562, f1_score - 0.76562\n",
      "Elapsed time: 13.530\n",
      "----------------------------------------------------------------------\n",
      "Epoch 32: train loss - 0.42169, validation loss - 0.73546\n",
      "\t Validation: precision - 0.76562, recall - 0.76562, f1_score - 0.76562\n",
      "Elapsed time: 13.625\n",
      "----------------------------------------------------------------------\n",
      "Epoch 33: train loss - 0.40648, validation loss - 0.6953\n",
      "\t Validation: precision - 0.75, recall - 0.75, f1_score - 0.75\n",
      "Elapsed time: 13.499\n",
      "----------------------------------------------------------------------\n",
      "Epoch 34: train loss - 0.38266, validation loss - 0.6147\n",
      "\t Validation: precision - 0.79687, recall - 0.79687, f1_score - 0.79687\n",
      "Elapsed time: 14.036\n",
      "----------------------------------------------------------------------\n",
      "Epoch 35: train loss - 0.36237, validation loss - 0.57702\n",
      "\t Validation: precision - 0.78125, recall - 0.78125, f1_score - 0.78125\n",
      "Elapsed time: 14.145\n",
      "----------------------------------------------------------------------\n",
      "Epoch 36: train loss - 0.35197, validation loss - 0.55842\n",
      "\t Validation: precision - 0.76562, recall - 0.76562, f1_score - 0.76562\n",
      "Elapsed time: 14.129\n",
      "----------------------------------------------------------------------\n",
      "Epoch 37: train loss - 0.34631, validation loss - 0.55834\n",
      "\t Validation: precision - 0.8125, recall - 0.8125, f1_score - 0.8125\n",
      "Elapsed time: 13.941\n",
      "----------------------------------------------------------------------\n",
      "Epoch 38: train loss - 0.2979, validation loss - 0.5983\n",
      "\t Validation: precision - 0.76562, recall - 0.76562, f1_score - 0.76562\n",
      "Elapsed time: 14.058\n",
      "----------------------------------------------------------------------\n",
      "Epoch 39: train loss - 0.28927, validation loss - 0.5983\n",
      "\t Validation: precision - 0.76562, recall - 0.76562, f1_score - 0.76562\n",
      "Elapsed time: 14.401\n",
      "----------------------------------------------------------------------\n",
      "Epoch 40: train loss - 0.29979, validation loss - 0.5875\n",
      "\t Validation: precision - 0.75, recall - 0.75, f1_score - 0.75\n",
      "Elapsed time: 14.723\n",
=======
      "Epoch 1: train loss - 1.69194, validation loss - 1.36432\n",
      "\t Validation: precision - 0.43548, recall - 0.43548, f1_score - 0.43548\n",
      "Elapsed time: 2.544\n",
      "----------------------------------------------------------------------\n",
      "Epoch 2: train loss - 1.15529, validation loss - 1.41984\n",
      "\t Validation: precision - 0.45161, recall - 0.45161, f1_score - 0.45161\n",
      "Elapsed time: 3.174\n",
      "----------------------------------------------------------------------\n",
      "Epoch 3: train loss - 1.11151, validation loss - 1.35183\n",
      "\t Validation: precision - 0.40323, recall - 0.40323, f1_score - 0.40323\n",
      "Elapsed time: 6.108\n",
      "----------------------------------------------------------------------\n",
      "Epoch 4: train loss - 1.08712, validation loss - 1.27088\n",
      "\t Validation: precision - 0.46774, recall - 0.46774, f1_score - 0.46774\n",
      "Elapsed time: 7.876\n",
      "----------------------------------------------------------------------\n",
      "Epoch 5: train loss - 1.08692, validation loss - 1.27741\n",
      "\t Validation: precision - 0.41935, recall - 0.41935, f1_score - 0.41935\n",
      "Elapsed time: 8.104\n",
      "----------------------------------------------------------------------\n",
      "Epoch 6: train loss - 1.08547, validation loss - 1.23753\n",
      "\t Validation: precision - 0.53226, recall - 0.53226, f1_score - 0.53226\n",
      "Elapsed time: 7.993\n",
      "----------------------------------------------------------------------\n",
      "Epoch 7: train loss - 0.98976, validation loss - 1.28785\n",
      "\t Validation: precision - 0.51613, recall - 0.51613, f1_score - 0.51613\n",
      "Elapsed time: 8.073\n",
      "----------------------------------------------------------------------\n",
      "Epoch 8: train loss - 0.97564, validation loss - 1.29931\n",
      "\t Validation: precision - 0.43548, recall - 0.43548, f1_score - 0.43548\n",
      "Elapsed time: 9.115\n",
      "----------------------------------------------------------------------\n",
      "Epoch 9: train loss - 0.97231, validation loss - 1.28056\n",
      "\t Validation: precision - 0.5, recall - 0.5, f1_score - 0.5\n",
      "Elapsed time: 9.017\n",
      "----------------------------------------------------------------------\n",
      "Epoch 10: train loss - 0.93458, validation loss - 1.24524\n",
      "\t Validation: precision - 0.51613, recall - 0.51613, f1_score - 0.51613\n",
      "Elapsed time: 9.478\n",
      "----------------------------------------------------------------------\n",
      "Epoch 11: train loss - 0.94938, validation loss - 1.2321\n",
      "\t Validation: precision - 0.51613, recall - 0.51613, f1_score - 0.51613\n",
      "Elapsed time: 10.005\n",
      "----------------------------------------------------------------------\n",
      "Epoch 12: train loss - 0.90543, validation loss - 1.2362\n",
      "\t Validation: precision - 0.51613, recall - 0.51613, f1_score - 0.51613\n",
      "Elapsed time: 10.287\n",
      "----------------------------------------------------------------------\n",
      "Epoch 13: train loss - 0.91426, validation loss - 1.23929\n",
      "\t Validation: precision - 0.53226, recall - 0.53226, f1_score - 0.53226\n",
      "Elapsed time: 10.598\n",
      "----------------------------------------------------------------------\n",
      "Epoch 14: train loss - 0.90031, validation loss - 1.2477\n",
      "\t Validation: precision - 0.53226, recall - 0.53226, f1_score - 0.53226\n",
      "Elapsed time: 10.763\n",
      "----------------------------------------------------------------------\n",
      "Epoch 15: train loss - 0.90023, validation loss - 1.25124\n",
      "\t Validation: precision - 0.54839, recall - 0.54839, f1_score - 0.54839\n",
      "Elapsed time: 11.115\n",
      "----------------------------------------------------------------------\n",
      "Epoch 16: train loss - 0.88938, validation loss - 1.24251\n",
      "\t Validation: precision - 0.53226, recall - 0.53226, f1_score - 0.53226\n",
      "Elapsed time: 10.483\n",
      "----------------------------------------------------------------------\n",
      "Epoch 17: train loss - 0.86004, validation loss - 1.23686\n",
      "\t Validation: precision - 0.51613, recall - 0.51613, f1_score - 0.51613\n",
      "Elapsed time: 10.009\n",
      "----------------------------------------------------------------------\n",
      "Epoch 18: train loss - 0.86402, validation loss - 1.23627\n",
      "\t Validation: precision - 0.53226, recall - 0.53226, f1_score - 0.53226\n",
      "Elapsed time: 9.681\n",
      "----------------------------------------------------------------------\n",
      "Epoch 19: train loss - 0.86208, validation loss - 1.23365\n",
      "\t Validation: precision - 0.56452, recall - 0.56452, f1_score - 0.56452\n",
      "Elapsed time: 9.562\n",
      "----------------------------------------------------------------------\n",
      "Epoch 20: train loss - 0.79784, validation loss - 1.22238\n",
      "\t Validation: precision - 0.53226, recall - 0.53226, f1_score - 0.53226\n",
      "Elapsed time: 9.747\n",
      "----------------------------------------------------------------------\n",
      "Epoch 21: train loss - 0.78948, validation loss - 1.20345\n",
      "\t Validation: precision - 0.54839, recall - 0.54839, f1_score - 0.54839\n",
      "Elapsed time: 10.443\n",
      "----------------------------------------------------------------------\n",
      "Epoch 22: train loss - 0.80413, validation loss - 1.1721\n",
      "\t Validation: precision - 0.56452, recall - 0.56452, f1_score - 0.56452\n",
      "Elapsed time: 10.322\n",
      "----------------------------------------------------------------------\n",
      "Epoch 23: train loss - 0.72968, validation loss - 1.15733\n",
      "\t Validation: precision - 0.59677, recall - 0.59677, f1_score - 0.59677\n",
      "Elapsed time: 10.383\n",
      "----------------------------------------------------------------------\n",
      "Epoch 24: train loss - 0.73159, validation loss - 1.11192\n",
      "\t Validation: precision - 0.58065, recall - 0.58065, f1_score - 0.58065\n",
      "Elapsed time: 10.261\n",
      "----------------------------------------------------------------------\n",
      "Epoch 25: train loss - 0.75928, validation loss - 1.09405\n",
      "\t Validation: precision - 0.54839, recall - 0.54839, f1_score - 0.54839\n",
      "Elapsed time: 10.249\n",
      "----------------------------------------------------------------------\n",
      "Epoch 26: train loss - 0.69041, validation loss - 1.0921\n",
      "\t Validation: precision - 0.56452, recall - 0.56452, f1_score - 0.56452\n",
      "Elapsed time: 10.139\n",
      "----------------------------------------------------------------------\n",
      "Epoch 27: train loss - 0.68521, validation loss - 1.09624\n",
      "\t Validation: precision - 0.59677, recall - 0.59677, f1_score - 0.59677\n",
      "Elapsed time: 10.212\n",
      "----------------------------------------------------------------------\n",
      "Epoch 28: train loss - 0.69858, validation loss - 1.0864\n",
      "\t Validation: precision - 0.59677, recall - 0.59677, f1_score - 0.59677\n",
      "Elapsed time: 10.569\n",
      "----------------------------------------------------------------------\n",
      "Epoch 29: train loss - 0.65763, validation loss - 1.04167\n",
      "\t Validation: precision - 0.59677, recall - 0.59677, f1_score - 0.59677\n",
      "Elapsed time: 10.473\n",
      "----------------------------------------------------------------------\n",
      "Epoch 30: train loss - 0.66378, validation loss - 0.99737\n",
      "\t Validation: precision - 0.6129, recall - 0.6129, f1_score - 0.6129\n",
      "Elapsed time: 10.554\n",
      "----------------------------------------------------------------------\n",
      "Epoch 31: train loss - 0.66931, validation loss - 1.00304\n",
      "\t Validation: precision - 0.62903, recall - 0.62903, f1_score - 0.62903\n",
      "Elapsed time: 10.714\n",
      "----------------------------------------------------------------------\n",
      "Epoch 32: train loss - 0.64861, validation loss - 1.01684\n",
      "\t Validation: precision - 0.64516, recall - 0.64516, f1_score - 0.64516\n",
      "Elapsed time: 11.073\n",
      "----------------------------------------------------------------------\n",
      "Epoch 33: train loss - 0.61583, validation loss - 1.01864\n",
      "\t Validation: precision - 0.6129, recall - 0.6129, f1_score - 0.6129\n",
      "Elapsed time: 11.272\n",
      "----------------------------------------------------------------------\n",
      "Epoch 34: train loss - 0.63973, validation loss - 1.02954\n",
      "\t Validation: precision - 0.58065, recall - 0.58065, f1_score - 0.58065\n",
      "Elapsed time: 12.322\n",
      "----------------------------------------------------------------------\n",
      "Epoch 35: train loss - 0.61094, validation loss - 1.04466\n",
      "\t Validation: precision - 0.59677, recall - 0.59677, f1_score - 0.59677\n",
      "Elapsed time: 11.974\n",
      "----------------------------------------------------------------------\n",
      "Epoch 36: train loss - 0.59255, validation loss - 1.07963\n",
      "\t Validation: precision - 0.6129, recall - 0.6129, f1_score - 0.6129\n",
      "Elapsed time: 11.787\n",
      "----------------------------------------------------------------------\n",
      "Epoch 37: train loss - 0.5756, validation loss - 1.08409\n",
      "\t Validation: precision - 0.58065, recall - 0.58065, f1_score - 0.58065\n",
      "Elapsed time: 11.621\n",
      "----------------------------------------------------------------------\n",
      "Epoch 38: train loss - 0.57513, validation loss - 1.07968\n",
      "\t Validation: precision - 0.59677, recall - 0.59677, f1_score - 0.59677\n",
      "Elapsed time: 11.817\n",
      "----------------------------------------------------------------------\n",
      "Epoch 39: train loss - 0.55423, validation loss - 1.04616\n",
      "\t Validation: precision - 0.62903, recall - 0.62903, f1_score - 0.62903\n",
      "Elapsed time: 11.952\n",
      "----------------------------------------------------------------------\n",
      "Epoch 40: train loss - 0.53715, validation loss - 1.03176\n",
      "\t Validation: precision - 0.62903, recall - 0.62903, f1_score - 0.62903\n",
      "Elapsed time: 11.943\n",
>>>>>>> 44e766011a2cdff723a935e882041412b01005dd
      "----------------------------------------------------------------------\n"
     ]
    }
   ],
   "source": [
    "N_EPOCHS = 40\n",
    "LR = 3e-3\n",
    "WD = 0.8e-5\n",
    "\n",
    "optimizer = torch.optim.Adam(model.parameters(), lr=LR, weight_decay=WD)\n",
    "criterion = nn.CrossEntropyLoss()\n",
    "\n",
    "train_class = TrainingModule(model, optimizer, criterion, train_loader, val_loader, test_loader, N_EPOCHS, idx2target)\n",
<<<<<<< HEAD
    "list_train_loss, list_val_loss, list_train_precision, list_val_precision,list_train_recall, list_val_recall, list_train_f1, list_val_f1 = train_class.train(bert, 'a3_q1_emb')\n"
=======
    "list_train_loss, list_val_loss, list_train_precision, list_val_precision,list_train_recall, list_val_recall, list_train_f1, list_val_f1 = train_class.train(bert, 'Alis_dataq_emb')\n"
>>>>>>> 44e766011a2cdff723a935e882041412b01005dd
   ]
  },
  {
   "cell_type": "markdown",
   "metadata": {
    "colab_type": "text",
    "id": "NlFzvQyPFWZ8"
   },
   "source": [
    "# Predict and show names!"
   ]
  },
  {
   "cell_type": "markdown",
   "metadata": {
    "colab_type": "text",
    "id": "OAjRth0XFhWY"
   },
   "source": [
    "Go to weights of our models in order to take a view on how they pridect names: https://drive.google.com/drive/u/2/folders/1Q5ixv8dQ_qYqHg6w4Ep_XNeCJYZE6Cl2"
   ]
  },
  {
   "cell_type": "markdown",
   "metadata": {
    "colab_type": "text",
    "id": "oWqc2-P5FvSa"
   },
   "source": [
    "You need to:\n",
    "* Visit the above Drive folder.\n",
    "* Right click on folder name -> \"Add a shortcut to Drive\" -> select \"My Drive\" -> \"Add shortcut\"."
   ]
  },
  {
   "cell_type": "markdown",
   "metadata": {
    "colab_type": "text",
    "id": "iejx5jtCGESn"
   },
   "source": [
    "### Have an access to these weights"
   ]
  },
  {
   "cell_type": "code",
<<<<<<< HEAD
   "execution_count": 9,
=======
   "execution_count": 10,
>>>>>>> 44e766011a2cdff723a935e882041412b01005dd
   "metadata": {
    "colab": {
     "base_uri": "https://localhost:8080/",
     "height": 121
    },
    "colab_type": "code",
    "id": "vyqDgtuYFadi",
    "outputId": "e369de0e-6296-4918-d015-6d790380f08d"
   },
   "outputs": [],
   "source": [
    "# Detect if we are in Google Colaboratory\n",
    "try:\n",
    "    import google.colab\n",
    "    IN_COLAB = True\n",
    "except ImportError:\n",
    "    IN_COLAB = False\n",
    "\n",
    "from pathlib import Path\n",
    "# Determine the locations of auxiliary libraries and datasets.\n",
    "# `AUX_DATA_ROOT` is where 'notmnist.py', 'animation.py' and 'tiny-imagenet-2020.zip' are.\n",
    "if IN_COLAB:\n",
    "    google.colab.drive.mount(\"/content/drive/\")\n",
    "    \n",
    "    # Change this if you created the shortcut in a different location\n",
    "    AUX_DATA_ROOT = Path(\"/content/drive/My Drive/best_models/\")\n",
    "    \n",
    "    assert AUX_DATA_ROOT.is_dir(), \"Have you forgot to 'Add a shortcut to Drive'?\"\n",
    "else:\n",
    "    AUX_DATA_ROOT = Path(\".\")"
   ]
  },
  {
   "cell_type": "markdown",
   "metadata": {
    "colab_type": "text",
    "id": "tvPBQ6ioGMym"
   },
   "source": [
    "#### DEFINE model\n",
    "* If you want to test original paper model:"
   ]
  },
  {
   "cell_type": "code",
<<<<<<< HEAD
   "execution_count": 10,
=======
   "execution_count": 11,
>>>>>>> 44e766011a2cdff723a935e882041412b01005dd
   "metadata": {
    "colab": {
     "base_uri": "https://localhost:8080/",
     "height": 34
    },
    "colab_type": "code",
    "id": "cpv6b0XDFagA",
    "outputId": "02f9f970-825e-43fa-8b46-46c6ae7f8ade"
   },
   "outputs": [],
   "source": [
<<<<<<< HEAD
    "if bert == False:\n",
    "  state_dict = torch.load('/Users/alishbahiqbal/Desktop/c2v_pytorch/Code2vec_Pytorch_pipeline/a3_q1_emb_article_model.pth')\n",
=======
    "if bert == True:\n",
    "  # state_dict = torch.load('best_model.pth')\n",
    "  state_dict = torch.load('./' + dataset_name + '_bert_model.pth')\n",
>>>>>>> 44e766011a2cdff723a935e882041412b01005dd
    "else:\n",
    "  state_dict = torch.load( './' + dataset_name + '_article_model.pth')\n",
    "\n",
    "model.load_state_dict(state_dict)\n",
    "\n",
    "DEVICE = torch.device(\"cuda:0\" if torch.cuda.is_available() else \"cpu\")\n",
    "\n",
    "model = model.to(DEVICE)"
   ]
  },
  {
   "cell_type": "markdown",
   "metadata": {
    "colab_type": "text",
    "id": "KS-EkP8-GeHm"
   },
   "source": [
    "#### Let's test it on the test dataset"
   ]
  },
  {
   "cell_type": "markdown",
   "metadata": {
    "colab_type": "text",
    "id": "p-zCjrkoP34o"
   },
   "source": [
    "#  \\<UNK\\> means that this name doen't exist in our dictionary of labels:("
   ]
  },
  {
   "cell_type": "code",
<<<<<<< HEAD
   "execution_count": 11,
=======
   "execution_count": 12,
>>>>>>> 44e766011a2cdff723a935e882041412b01005dd
   "metadata": {
    "colab": {
     "base_uri": "https://localhost:8080/",
     "height": 455
    },
    "colab_type": "code",
    "id": "MaxEcfskFan8",
    "outputId": "3deced73-6333-4212-b600-f56a8c9a88f3"
   },
   "outputs": [
    {
     "name": "stderr",
     "output_type": "stream",
     "text": [
      "/Users/unaissiddiqui/opt/anaconda3/envs/Fyp/lib/python3.7/site-packages/ipykernel_launcher.py:10: UserWarning: Implicit dimension choice for softmax has been deprecated. Change the call to include dim=X as an argument.\n",
      "  # Remove the CWD from sys.path while we load stuff.\n"
     ]
    },
    {
     "data": {
      "text/html": [
       "<div>\n",
       "<style scoped>\n",
       "    .dataframe tbody tr th:only-of-type {\n",
       "        vertical-align: middle;\n",
       "    }\n",
       "\n",
       "    .dataframe tbody tr th {\n",
       "        vertical-align: top;\n",
       "    }\n",
       "\n",
       "    .dataframe thead th {\n",
       "        text-align: right;\n",
       "    }\n",
       "</style>\n",
       "<table border=\"1\" class=\"dataframe\">\n",
       "  <thead>\n",
       "    <tr style=\"text-align: right;\">\n",
       "      <th></th>\n",
       "      <th>Original names</th>\n",
       "      <th>Predicted names</th>\n",
       "    </tr>\n",
       "  </thead>\n",
       "  <tbody>\n",
       "    <tr>\n",
       "      <th>0</th>\n",
       "      <td>&lt;unk&gt;</td>\n",
       "      <td>7</td>\n",
       "    </tr>\n",
       "    <tr>\n",
       "      <th>1</th>\n",
<<<<<<< HEAD
       "      <td>10</td>\n",
       "      <td>10</td>\n",
       "    </tr>\n",
       "    <tr>\n",
       "      <th>2</th>\n",
       "      <td>10</td>\n",
       "      <td>7</td>\n",
=======
       "      <td>7</td>\n",
       "      <td>7</td>\n",
       "    </tr>\n",
       "    <tr>\n",
       "      <th>2</th>\n",
       "      <td>2</td>\n",
       "      <td>10</td>\n",
>>>>>>> 44e766011a2cdff723a935e882041412b01005dd
       "    </tr>\n",
       "    <tr>\n",
       "      <th>3</th>\n",
       "      <td>7</td>\n",
<<<<<<< HEAD
       "      <td>10</td>\n",
       "    </tr>\n",
       "    <tr>\n",
       "      <th>4</th>\n",
       "      <td>7</td>\n",
       "      <td>7</td>\n",
       "    </tr>\n",
       "    <tr>\n",
       "      <th>...</th>\n",
       "      <td>...</td>\n",
       "      <td>...</td>\n",
       "    </tr>\n",
       "    <tr>\n",
       "      <th>59</th>\n",
=======
       "      <td>7</td>\n",
       "    </tr>\n",
       "    <tr>\n",
       "      <th>4</th>\n",
       "      <td>5</td>\n",
       "      <td>10</td>\n",
       "    </tr>\n",
       "    <tr>\n",
       "      <th>...</th>\n",
       "      <td>...</td>\n",
       "      <td>...</td>\n",
       "    </tr>\n",
       "    <tr>\n",
       "      <th>57</th>\n",
       "      <td>7</td>\n",
       "      <td>7</td>\n",
       "    </tr>\n",
       "    <tr>\n",
       "      <th>58</th>\n",
>>>>>>> 44e766011a2cdff723a935e882041412b01005dd
       "      <td>10</td>\n",
       "      <td>7</td>\n",
       "    </tr>\n",
       "    <tr>\n",
<<<<<<< HEAD
       "      <th>60</th>\n",
       "      <td>2</td>\n",
       "      <td>7</td>\n",
       "    </tr>\n",
       "    <tr>\n",
       "      <th>61</th>\n",
       "      <td>7</td>\n",
       "      <td>7</td>\n",
       "    </tr>\n",
       "    <tr>\n",
       "      <th>62</th>\n",
       "      <td>10</td>\n",
       "      <td>7</td>\n",
       "    </tr>\n",
       "    <tr>\n",
       "      <th>63</th>\n",
       "      <td>7</td>\n",
       "      <td>10</td>\n",
       "    </tr>\n",
       "  </tbody>\n",
       "</table>\n",
       "<p>64 rows × 2 columns</p>\n",
=======
       "      <th>59</th>\n",
       "      <td>7</td>\n",
       "      <td>7</td>\n",
       "    </tr>\n",
       "    <tr>\n",
       "      <th>60</th>\n",
       "      <td>7</td>\n",
       "      <td>10</td>\n",
       "    </tr>\n",
       "    <tr>\n",
       "      <th>61</th>\n",
       "      <td>10</td>\n",
       "      <td>7</td>\n",
       "    </tr>\n",
       "  </tbody>\n",
       "</table>\n",
       "<p>62 rows × 2 columns</p>\n",
>>>>>>> 44e766011a2cdff723a935e882041412b01005dd
       "</div>"
      ],
      "text/plain": [
       "   Original names Predicted names\n",
       "0           <unk>               7\n",
<<<<<<< HEAD
       "1              10              10\n",
       "2              10               7\n",
       "3               7              10\n",
       "4               7               7\n",
       "..            ...             ...\n",
       "59             10               7\n",
       "60              2               7\n",
       "61              7               7\n",
       "62             10               7\n",
       "63              7              10\n",
       "\n",
       "[64 rows x 2 columns]"
=======
       "1               7               7\n",
       "2               2              10\n",
       "3               7               7\n",
       "4               5              10\n",
       "..            ...             ...\n",
       "57              7               7\n",
       "58             10               7\n",
       "59              7               7\n",
       "60              7              10\n",
       "61             10               7\n",
       "\n",
       "[62 rows x 2 columns]"
>>>>>>> 44e766011a2cdff723a935e882041412b01005dd
      ]
     },
     "metadata": {},
     "output_type": "display_data"
    }
   ],
   "source": [
    "import pandas as pd\n",
    "from IPython.display import display\n",
    "\n",
    "d = {'Original names': [], 'Predicted names': []}\n",
    "\n",
    "for start, path, end, label in iter(test_loader):\n",
    "    # get from model\n",
    "    code, y_pred = model(start.to(DEVICE), path.to(DEVICE), end.to(DEVICE))\n",
    "    # get probability\n",
    "    y_pred = F.softmax(y_pred)\n",
    "    # get best name index\n",
    "    y_pred = torch.argmax(y_pred, dim = 1)\n",
    "    \n",
    "    for i, j in zip(label, y_pred):\n",
    "      d['Original names'].append(idx2target[i.item()])\n",
    "      d['Predicted names'].append(idx2target[j.item()])\n",
    "    break\n",
    "\n",
    "df = pd.DataFrame(data=d)\n",
    "display(df,)"
   ]
  },
  {
   "cell_type": "code",
   "execution_count": null,
   "metadata": {},
   "outputs": [],
   "source": []
  }
 ],
 "metadata": {
  "accelerator": "GPU",
  "colab": {
   "collapsed_sections": [],
   "name": "for_test_notebook.ipynb",
   "provenance": [],
   "toc_visible": true
  },
  "kernelspec": {
   "display_name": "Python 3",
   "language": "python",
   "name": "python3"
  },
  "language_info": {
   "codemirror_mode": {
    "name": "ipython",
    "version": 3
   },
   "file_extension": ".py",
   "mimetype": "text/x-python",
   "name": "python",
   "nbconvert_exporter": "python",
   "pygments_lexer": "ipython3",
   "version": "3.7.11"
  }
 },
 "nbformat": 4,
 "nbformat_minor": 1
}
