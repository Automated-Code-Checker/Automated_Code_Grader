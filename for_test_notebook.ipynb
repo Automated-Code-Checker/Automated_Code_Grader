{
 "cells": [
  {
   "cell_type": "markdown",
   "metadata": {
    "colab_type": "text",
    "id": "mECUxIi85Cg9"
   },
   "source": [
    "# Import our modules and torch\n"
   ]
  },
  {
   "cell_type": "code",
   "execution_count": 1,
   "metadata": {
    "colab": {},
    "colab_type": "code",
    "id": "PK_PH-Wr0LAL"
   },
   "outputs": [
    {
     "ename": "RuntimeError",
     "evalue": "Failed to import transformers.models.bert because of the following error (look up to see its traceback):\nFailed to import transformers.modeling_tf_utils because of the following error (look up to see its traceback):\nNo module named 'tensorflow.python.keras.engine.keras_tensor'",
     "output_type": "error",
     "traceback": [
      "\u001b[0;31m---------------------------------------------------------------------------\u001b[0m",
      "\u001b[0;31mModuleNotFoundError\u001b[0m                       Traceback (most recent call last)",
      "\u001b[0;32m/opt/anaconda3/envs/fyp/lib/python3.7/site-packages/transformers/file_utils.py\u001b[0m in \u001b[0;36m_get_module\u001b[0;34m(self, module_name)\u001b[0m\n\u001b[1;32m   2280\u001b[0m         \u001b[0;32mtry\u001b[0m\u001b[0;34m:\u001b[0m\u001b[0;34m\u001b[0m\u001b[0;34m\u001b[0m\u001b[0m\n\u001b[0;32m-> 2281\u001b[0;31m             \u001b[0;32mreturn\u001b[0m \u001b[0mimportlib\u001b[0m\u001b[0;34m.\u001b[0m\u001b[0mimport_module\u001b[0m\u001b[0;34m(\u001b[0m\u001b[0;34m\".\"\u001b[0m \u001b[0;34m+\u001b[0m \u001b[0mmodule_name\u001b[0m\u001b[0;34m,\u001b[0m \u001b[0mself\u001b[0m\u001b[0;34m.\u001b[0m\u001b[0m__name__\u001b[0m\u001b[0;34m)\u001b[0m\u001b[0;34m\u001b[0m\u001b[0;34m\u001b[0m\u001b[0m\n\u001b[0m\u001b[1;32m   2282\u001b[0m         \u001b[0;32mexcept\u001b[0m \u001b[0mException\u001b[0m \u001b[0;32mas\u001b[0m \u001b[0me\u001b[0m\u001b[0;34m:\u001b[0m\u001b[0;34m\u001b[0m\u001b[0;34m\u001b[0m\u001b[0m\n",
      "\u001b[0;32m/opt/anaconda3/envs/fyp/lib/python3.7/importlib/__init__.py\u001b[0m in \u001b[0;36mimport_module\u001b[0;34m(name, package)\u001b[0m\n\u001b[1;32m    126\u001b[0m             \u001b[0mlevel\u001b[0m \u001b[0;34m+=\u001b[0m \u001b[0;36m1\u001b[0m\u001b[0;34m\u001b[0m\u001b[0;34m\u001b[0m\u001b[0m\n\u001b[0;32m--> 127\u001b[0;31m     \u001b[0;32mreturn\u001b[0m \u001b[0m_bootstrap\u001b[0m\u001b[0;34m.\u001b[0m\u001b[0m_gcd_import\u001b[0m\u001b[0;34m(\u001b[0m\u001b[0mname\u001b[0m\u001b[0;34m[\u001b[0m\u001b[0mlevel\u001b[0m\u001b[0;34m:\u001b[0m\u001b[0;34m]\u001b[0m\u001b[0;34m,\u001b[0m \u001b[0mpackage\u001b[0m\u001b[0;34m,\u001b[0m \u001b[0mlevel\u001b[0m\u001b[0;34m)\u001b[0m\u001b[0;34m\u001b[0m\u001b[0;34m\u001b[0m\u001b[0m\n\u001b[0m\u001b[1;32m    128\u001b[0m \u001b[0;34m\u001b[0m\u001b[0m\n",
      "\u001b[0;32m/opt/anaconda3/envs/fyp/lib/python3.7/importlib/_bootstrap.py\u001b[0m in \u001b[0;36m_gcd_import\u001b[0;34m(name, package, level)\u001b[0m\n",
      "\u001b[0;32m/opt/anaconda3/envs/fyp/lib/python3.7/importlib/_bootstrap.py\u001b[0m in \u001b[0;36m_find_and_load\u001b[0;34m(name, import_)\u001b[0m\n",
      "\u001b[0;32m/opt/anaconda3/envs/fyp/lib/python3.7/importlib/_bootstrap.py\u001b[0m in \u001b[0;36m_find_and_load_unlocked\u001b[0;34m(name, import_)\u001b[0m\n",
      "\u001b[0;32m/opt/anaconda3/envs/fyp/lib/python3.7/importlib/_bootstrap.py\u001b[0m in \u001b[0;36m_load_unlocked\u001b[0;34m(spec)\u001b[0m\n",
      "\u001b[0;32m/opt/anaconda3/envs/fyp/lib/python3.7/importlib/_bootstrap_external.py\u001b[0m in \u001b[0;36mexec_module\u001b[0;34m(self, module)\u001b[0m\n",
      "\u001b[0;32m/opt/anaconda3/envs/fyp/lib/python3.7/importlib/_bootstrap.py\u001b[0m in \u001b[0;36m_call_with_frames_removed\u001b[0;34m(f, *args, **kwds)\u001b[0m\n",
      "\u001b[0;32m/opt/anaconda3/envs/fyp/lib/python3.7/site-packages/transformers/modeling_tf_utils.py\u001b[0m in \u001b[0;36m<module>\u001b[0;34m\u001b[0m\n\u001b[1;32m     30\u001b[0m \u001b[0;32mfrom\u001b[0m \u001b[0mtensorflow\u001b[0m\u001b[0;34m.\u001b[0m\u001b[0mpython\u001b[0m\u001b[0;34m.\u001b[0m\u001b[0mkeras\u001b[0m\u001b[0;34m.\u001b[0m\u001b[0mengine\u001b[0m \u001b[0;32mimport\u001b[0m \u001b[0mdata_adapter\u001b[0m\u001b[0;34m\u001b[0m\u001b[0;34m\u001b[0m\u001b[0m\n\u001b[0;32m---> 31\u001b[0;31m \u001b[0;32mfrom\u001b[0m \u001b[0mtensorflow\u001b[0m\u001b[0;34m.\u001b[0m\u001b[0mpython\u001b[0m\u001b[0;34m.\u001b[0m\u001b[0mkeras\u001b[0m\u001b[0;34m.\u001b[0m\u001b[0mengine\u001b[0m\u001b[0;34m.\u001b[0m\u001b[0mkeras_tensor\u001b[0m \u001b[0;32mimport\u001b[0m \u001b[0mKerasTensor\u001b[0m\u001b[0;34m\u001b[0m\u001b[0;34m\u001b[0m\u001b[0m\n\u001b[0m\u001b[1;32m     32\u001b[0m \u001b[0;32mfrom\u001b[0m \u001b[0mtensorflow\u001b[0m\u001b[0;34m.\u001b[0m\u001b[0mpython\u001b[0m\u001b[0;34m.\u001b[0m\u001b[0mkeras\u001b[0m\u001b[0;34m.\u001b[0m\u001b[0msaving\u001b[0m \u001b[0;32mimport\u001b[0m \u001b[0mhdf5_format\u001b[0m\u001b[0;34m\u001b[0m\u001b[0;34m\u001b[0m\u001b[0m\n",
      "\u001b[0;31mModuleNotFoundError\u001b[0m: No module named 'tensorflow.python.keras.engine.keras_tensor'",
      "\nThe above exception was the direct cause of the following exception:\n",
      "\u001b[0;31mRuntimeError\u001b[0m                              Traceback (most recent call last)",
      "\u001b[0;32m/opt/anaconda3/envs/fyp/lib/python3.7/site-packages/transformers/file_utils.py\u001b[0m in \u001b[0;36m_get_module\u001b[0;34m(self, module_name)\u001b[0m\n\u001b[1;32m   2280\u001b[0m         \u001b[0;32mtry\u001b[0m\u001b[0;34m:\u001b[0m\u001b[0;34m\u001b[0m\u001b[0;34m\u001b[0m\u001b[0m\n\u001b[0;32m-> 2281\u001b[0;31m             \u001b[0;32mreturn\u001b[0m \u001b[0mimportlib\u001b[0m\u001b[0;34m.\u001b[0m\u001b[0mimport_module\u001b[0m\u001b[0;34m(\u001b[0m\u001b[0;34m\".\"\u001b[0m \u001b[0;34m+\u001b[0m \u001b[0mmodule_name\u001b[0m\u001b[0;34m,\u001b[0m \u001b[0mself\u001b[0m\u001b[0;34m.\u001b[0m\u001b[0m__name__\u001b[0m\u001b[0;34m)\u001b[0m\u001b[0;34m\u001b[0m\u001b[0;34m\u001b[0m\u001b[0m\n\u001b[0m\u001b[1;32m   2282\u001b[0m         \u001b[0;32mexcept\u001b[0m \u001b[0mException\u001b[0m \u001b[0;32mas\u001b[0m \u001b[0me\u001b[0m\u001b[0;34m:\u001b[0m\u001b[0;34m\u001b[0m\u001b[0;34m\u001b[0m\u001b[0m\n",
      "\u001b[0;32m/opt/anaconda3/envs/fyp/lib/python3.7/importlib/__init__.py\u001b[0m in \u001b[0;36mimport_module\u001b[0;34m(name, package)\u001b[0m\n\u001b[1;32m    126\u001b[0m             \u001b[0mlevel\u001b[0m \u001b[0;34m+=\u001b[0m \u001b[0;36m1\u001b[0m\u001b[0;34m\u001b[0m\u001b[0;34m\u001b[0m\u001b[0m\n\u001b[0;32m--> 127\u001b[0;31m     \u001b[0;32mreturn\u001b[0m \u001b[0m_bootstrap\u001b[0m\u001b[0;34m.\u001b[0m\u001b[0m_gcd_import\u001b[0m\u001b[0;34m(\u001b[0m\u001b[0mname\u001b[0m\u001b[0;34m[\u001b[0m\u001b[0mlevel\u001b[0m\u001b[0;34m:\u001b[0m\u001b[0;34m]\u001b[0m\u001b[0;34m,\u001b[0m \u001b[0mpackage\u001b[0m\u001b[0;34m,\u001b[0m \u001b[0mlevel\u001b[0m\u001b[0;34m)\u001b[0m\u001b[0;34m\u001b[0m\u001b[0;34m\u001b[0m\u001b[0m\n\u001b[0m\u001b[1;32m    128\u001b[0m \u001b[0;34m\u001b[0m\u001b[0m\n",
      "\u001b[0;32m/opt/anaconda3/envs/fyp/lib/python3.7/importlib/_bootstrap.py\u001b[0m in \u001b[0;36m_gcd_import\u001b[0;34m(name, package, level)\u001b[0m\n",
      "\u001b[0;32m/opt/anaconda3/envs/fyp/lib/python3.7/importlib/_bootstrap.py\u001b[0m in \u001b[0;36m_find_and_load\u001b[0;34m(name, import_)\u001b[0m\n",
      "\u001b[0;32m/opt/anaconda3/envs/fyp/lib/python3.7/importlib/_bootstrap.py\u001b[0m in \u001b[0;36m_find_and_load_unlocked\u001b[0;34m(name, import_)\u001b[0m\n",
      "\u001b[0;32m/opt/anaconda3/envs/fyp/lib/python3.7/importlib/_bootstrap.py\u001b[0m in \u001b[0;36m_call_with_frames_removed\u001b[0;34m(f, *args, **kwds)\u001b[0m\n",
      "\u001b[0;32m/opt/anaconda3/envs/fyp/lib/python3.7/importlib/_bootstrap.py\u001b[0m in \u001b[0;36m_gcd_import\u001b[0;34m(name, package, level)\u001b[0m\n",
      "\u001b[0;32m/opt/anaconda3/envs/fyp/lib/python3.7/importlib/_bootstrap.py\u001b[0m in \u001b[0;36m_find_and_load\u001b[0;34m(name, import_)\u001b[0m\n",
      "\u001b[0;32m/opt/anaconda3/envs/fyp/lib/python3.7/importlib/_bootstrap.py\u001b[0m in \u001b[0;36m_find_and_load_unlocked\u001b[0;34m(name, import_)\u001b[0m\n",
      "\u001b[0;32m/opt/anaconda3/envs/fyp/lib/python3.7/importlib/_bootstrap.py\u001b[0m in \u001b[0;36m_load_unlocked\u001b[0;34m(spec)\u001b[0m\n",
      "\u001b[0;32m/opt/anaconda3/envs/fyp/lib/python3.7/importlib/_bootstrap_external.py\u001b[0m in \u001b[0;36mexec_module\u001b[0;34m(self, module)\u001b[0m\n",
      "\u001b[0;32m/opt/anaconda3/envs/fyp/lib/python3.7/importlib/_bootstrap.py\u001b[0m in \u001b[0;36m_call_with_frames_removed\u001b[0;34m(f, *args, **kwds)\u001b[0m\n",
      "\u001b[0;32m/opt/anaconda3/envs/fyp/lib/python3.7/site-packages/transformers/models/__init__.py\u001b[0m in \u001b[0;36m<module>\u001b[0;34m\u001b[0m\n\u001b[1;32m     18\u001b[0m \u001b[0;34m\u001b[0m\u001b[0m\n\u001b[0;32m---> 19\u001b[0;31m from . import (\n\u001b[0m\u001b[1;32m     20\u001b[0m     \u001b[0malbert\u001b[0m\u001b[0;34m,\u001b[0m\u001b[0;34m\u001b[0m\u001b[0;34m\u001b[0m\u001b[0m\n",
      "\u001b[0;32m/opt/anaconda3/envs/fyp/lib/python3.7/site-packages/transformers/models/layoutlm/__init__.py\u001b[0m in \u001b[0;36m<module>\u001b[0;34m\u001b[0m\n\u001b[1;32m     21\u001b[0m \u001b[0;32mfrom\u001b[0m \u001b[0;34m...\u001b[0m\u001b[0mfile_utils\u001b[0m \u001b[0;32mimport\u001b[0m \u001b[0m_LazyModule\u001b[0m\u001b[0;34m,\u001b[0m \u001b[0mis_tf_available\u001b[0m\u001b[0;34m,\u001b[0m \u001b[0mis_tokenizers_available\u001b[0m\u001b[0;34m,\u001b[0m \u001b[0mis_torch_available\u001b[0m\u001b[0;34m\u001b[0m\u001b[0;34m\u001b[0m\u001b[0m\n\u001b[0;32m---> 22\u001b[0;31m \u001b[0;32mfrom\u001b[0m \u001b[0;34m.\u001b[0m\u001b[0mconfiguration_layoutlm\u001b[0m \u001b[0;32mimport\u001b[0m \u001b[0mLAYOUTLM_PRETRAINED_CONFIG_ARCHIVE_MAP\u001b[0m\u001b[0;34m,\u001b[0m \u001b[0mLayoutLMConfig\u001b[0m\u001b[0;34m\u001b[0m\u001b[0;34m\u001b[0m\u001b[0m\n\u001b[0m\u001b[1;32m     23\u001b[0m \u001b[0;32mfrom\u001b[0m \u001b[0;34m.\u001b[0m\u001b[0mtokenization_layoutlm\u001b[0m \u001b[0;32mimport\u001b[0m \u001b[0mLayoutLMTokenizer\u001b[0m\u001b[0;34m\u001b[0m\u001b[0;34m\u001b[0m\u001b[0m\n",
      "\u001b[0;32m/opt/anaconda3/envs/fyp/lib/python3.7/site-packages/transformers/models/layoutlm/configuration_layoutlm.py\u001b[0m in \u001b[0;36m<module>\u001b[0;34m\u001b[0m\n\u001b[1;32m     21\u001b[0m \u001b[0;32mfrom\u001b[0m \u001b[0;34m...\u001b[0m \u001b[0;32mimport\u001b[0m \u001b[0mis_torch_available\u001b[0m\u001b[0;34m\u001b[0m\u001b[0;34m\u001b[0m\u001b[0m\n\u001b[0;32m---> 22\u001b[0;31m \u001b[0;32mfrom\u001b[0m \u001b[0;34m...\u001b[0m\u001b[0monnx\u001b[0m \u001b[0;32mimport\u001b[0m \u001b[0mOnnxConfig\u001b[0m\u001b[0;34m,\u001b[0m \u001b[0mPatchingSpec\u001b[0m\u001b[0;34m\u001b[0m\u001b[0;34m\u001b[0m\u001b[0m\n\u001b[0m\u001b[1;32m     23\u001b[0m \u001b[0;32mfrom\u001b[0m \u001b[0;34m...\u001b[0m\u001b[0mutils\u001b[0m \u001b[0;32mimport\u001b[0m \u001b[0mlogging\u001b[0m\u001b[0;34m\u001b[0m\u001b[0;34m\u001b[0m\u001b[0m\n",
      "\u001b[0;32m/opt/anaconda3/envs/fyp/lib/python3.7/site-packages/transformers/onnx/__init__.py\u001b[0m in \u001b[0;36m<module>\u001b[0;34m\u001b[0m\n\u001b[1;32m     16\u001b[0m \u001b[0;32mfrom\u001b[0m \u001b[0;34m.\u001b[0m\u001b[0mconfig\u001b[0m \u001b[0;32mimport\u001b[0m \u001b[0mEXTERNAL_DATA_FORMAT_SIZE_LIMIT\u001b[0m\u001b[0;34m,\u001b[0m \u001b[0mOnnxConfig\u001b[0m\u001b[0;34m,\u001b[0m \u001b[0mOnnxConfigWithPast\u001b[0m\u001b[0;34m,\u001b[0m \u001b[0mPatchingSpec\u001b[0m\u001b[0;34m\u001b[0m\u001b[0;34m\u001b[0m\u001b[0m\n\u001b[0;32m---> 17\u001b[0;31m \u001b[0;32mfrom\u001b[0m \u001b[0;34m.\u001b[0m\u001b[0mconvert\u001b[0m \u001b[0;32mimport\u001b[0m \u001b[0mexport\u001b[0m\u001b[0;34m,\u001b[0m \u001b[0mvalidate_model_outputs\u001b[0m\u001b[0;34m\u001b[0m\u001b[0;34m\u001b[0m\u001b[0m\n\u001b[0m\u001b[1;32m     18\u001b[0m \u001b[0;32mfrom\u001b[0m \u001b[0;34m.\u001b[0m\u001b[0mutils\u001b[0m \u001b[0;32mimport\u001b[0m \u001b[0mParameterFormat\u001b[0m\u001b[0;34m,\u001b[0m \u001b[0mcompute_serialized_parameters_size\u001b[0m\u001b[0;34m\u001b[0m\u001b[0;34m\u001b[0m\u001b[0m\n",
      "\u001b[0;32m/opt/anaconda3/envs/fyp/lib/python3.7/site-packages/transformers/onnx/convert.py\u001b[0m in \u001b[0;36m<module>\u001b[0;34m\u001b[0m\n\u001b[1;32m     22\u001b[0m \u001b[0;34m\u001b[0m\u001b[0m\n\u001b[0;32m---> 23\u001b[0;31m \u001b[0;32mfrom\u001b[0m \u001b[0mtransformers\u001b[0m \u001b[0;32mimport\u001b[0m \u001b[0mPreTrainedModel\u001b[0m\u001b[0;34m,\u001b[0m \u001b[0mPreTrainedTokenizer\u001b[0m\u001b[0;34m,\u001b[0m \u001b[0mTensorType\u001b[0m\u001b[0;34m,\u001b[0m \u001b[0mTFPreTrainedModel\u001b[0m\u001b[0;34m,\u001b[0m \u001b[0mis_torch_available\u001b[0m\u001b[0;34m\u001b[0m\u001b[0;34m\u001b[0m\u001b[0m\n\u001b[0m\u001b[1;32m     24\u001b[0m \u001b[0;32mfrom\u001b[0m \u001b[0mtransformers\u001b[0m\u001b[0;34m.\u001b[0m\u001b[0mfile_utils\u001b[0m \u001b[0;32mimport\u001b[0m \u001b[0mis_torch_onnx_dict_inputs_support_available\u001b[0m\u001b[0;34m\u001b[0m\u001b[0;34m\u001b[0m\u001b[0m\n",
      "\u001b[0;32m/opt/anaconda3/envs/fyp/lib/python3.7/importlib/_bootstrap.py\u001b[0m in \u001b[0;36m_handle_fromlist\u001b[0;34m(module, fromlist, import_, recursive)\u001b[0m\n",
      "\u001b[0;32m/opt/anaconda3/envs/fyp/lib/python3.7/site-packages/transformers/file_utils.py\u001b[0m in \u001b[0;36m__getattr__\u001b[0;34m(self, name)\u001b[0m\n\u001b[1;32m   2270\u001b[0m         \u001b[0;32melif\u001b[0m \u001b[0mname\u001b[0m \u001b[0;32min\u001b[0m \u001b[0mself\u001b[0m\u001b[0;34m.\u001b[0m\u001b[0m_class_to_module\u001b[0m\u001b[0;34m.\u001b[0m\u001b[0mkeys\u001b[0m\u001b[0;34m(\u001b[0m\u001b[0;34m)\u001b[0m\u001b[0;34m:\u001b[0m\u001b[0;34m\u001b[0m\u001b[0;34m\u001b[0m\u001b[0m\n\u001b[0;32m-> 2271\u001b[0;31m             \u001b[0mmodule\u001b[0m \u001b[0;34m=\u001b[0m \u001b[0mself\u001b[0m\u001b[0;34m.\u001b[0m\u001b[0m_get_module\u001b[0m\u001b[0;34m(\u001b[0m\u001b[0mself\u001b[0m\u001b[0;34m.\u001b[0m\u001b[0m_class_to_module\u001b[0m\u001b[0;34m[\u001b[0m\u001b[0mname\u001b[0m\u001b[0;34m]\u001b[0m\u001b[0;34m)\u001b[0m\u001b[0;34m\u001b[0m\u001b[0;34m\u001b[0m\u001b[0m\n\u001b[0m\u001b[1;32m   2272\u001b[0m             \u001b[0mvalue\u001b[0m \u001b[0;34m=\u001b[0m \u001b[0mgetattr\u001b[0m\u001b[0;34m(\u001b[0m\u001b[0mmodule\u001b[0m\u001b[0;34m,\u001b[0m \u001b[0mname\u001b[0m\u001b[0;34m)\u001b[0m\u001b[0;34m\u001b[0m\u001b[0;34m\u001b[0m\u001b[0m\n",
      "\u001b[0;32m/opt/anaconda3/envs/fyp/lib/python3.7/site-packages/transformers/file_utils.py\u001b[0m in \u001b[0;36m_get_module\u001b[0;34m(self, module_name)\u001b[0m\n\u001b[1;32m   2284\u001b[0m                 \u001b[0;34mf\"Failed to import {self.__name__}.{module_name} because of the following error (look up to see its traceback):\\n{e}\"\u001b[0m\u001b[0;34m\u001b[0m\u001b[0;34m\u001b[0m\u001b[0m\n\u001b[0;32m-> 2285\u001b[0;31m             ) from e\n\u001b[0m\u001b[1;32m   2286\u001b[0m \u001b[0;34m\u001b[0m\u001b[0m\n",
      "\u001b[0;31mRuntimeError\u001b[0m: Failed to import transformers.modeling_tf_utils because of the following error (look up to see its traceback):\nNo module named 'tensorflow.python.keras.engine.keras_tensor'",
      "\nThe above exception was the direct cause of the following exception:\n",
      "\u001b[0;31mRuntimeError\u001b[0m                              Traceback (most recent call last)",
      "\u001b[0;32m/var/folders/lp/8qls9f8d5831w65zw_yh3xp80000gn/T/ipykernel_43779/3192004115.py\u001b[0m in \u001b[0;36m<module>\u001b[0;34m\u001b[0m\n\u001b[1;32m      8\u001b[0m \u001b[0;32mimport\u001b[0m \u001b[0mtorch\u001b[0m\u001b[0;34m.\u001b[0m\u001b[0mnn\u001b[0m\u001b[0;34m.\u001b[0m\u001b[0mfunctional\u001b[0m \u001b[0;32mas\u001b[0m \u001b[0mF\u001b[0m\u001b[0;34m\u001b[0m\u001b[0;34m\u001b[0m\u001b[0m\n\u001b[1;32m      9\u001b[0m \u001b[0;32mimport\u001b[0m \u001b[0mrandom\u001b[0m\u001b[0;34m\u001b[0m\u001b[0;34m\u001b[0m\u001b[0m\n\u001b[0;32m---> 10\u001b[0;31m \u001b[0;32mimport\u001b[0m \u001b[0mmodel_implementation\u001b[0m\u001b[0;34m\u001b[0m\u001b[0;34m\u001b[0m\u001b[0m\n\u001b[0m",
      "\u001b[0;32m~/Desktop/c2v_pytorch/Code2vec_Pytorch_pipeline/model_implementation.py\u001b[0m in \u001b[0;36m<module>\u001b[0;34m\u001b[0m\n\u001b[1;32m      2\u001b[0m \u001b[0;32mimport\u001b[0m \u001b[0mtorch\u001b[0m\u001b[0;34m.\u001b[0m\u001b[0mnn\u001b[0m \u001b[0;32mas\u001b[0m \u001b[0mnn\u001b[0m\u001b[0;34m\u001b[0m\u001b[0;34m\u001b[0m\u001b[0m\n\u001b[1;32m      3\u001b[0m \u001b[0;32mimport\u001b[0m \u001b[0mtorch\u001b[0m\u001b[0;34m.\u001b[0m\u001b[0mnn\u001b[0m\u001b[0;34m.\u001b[0m\u001b[0mfunctional\u001b[0m \u001b[0;32mas\u001b[0m \u001b[0mF\u001b[0m\u001b[0;34m\u001b[0m\u001b[0;34m\u001b[0m\u001b[0m\n\u001b[0;32m----> 4\u001b[0;31m \u001b[0;32mfrom\u001b[0m \u001b[0mtransformers\u001b[0m \u001b[0;32mimport\u001b[0m \u001b[0mBertModel\u001b[0m\u001b[0;34m,\u001b[0m \u001b[0mBertConfig\u001b[0m\u001b[0;34m\u001b[0m\u001b[0;34m\u001b[0m\u001b[0m\n\u001b[0m\u001b[1;32m      5\u001b[0m \u001b[0;34m\u001b[0m\u001b[0m\n\u001b[1;32m      6\u001b[0m \u001b[0;34m\u001b[0m\u001b[0m\n",
      "\u001b[0;32m/opt/anaconda3/envs/fyp/lib/python3.7/importlib/_bootstrap.py\u001b[0m in \u001b[0;36m_handle_fromlist\u001b[0;34m(module, fromlist, import_, recursive)\u001b[0m\n",
      "\u001b[0;32m/opt/anaconda3/envs/fyp/lib/python3.7/site-packages/transformers/file_utils.py\u001b[0m in \u001b[0;36m__getattr__\u001b[0;34m(self, name)\u001b[0m\n\u001b[1;32m   2269\u001b[0m             \u001b[0mvalue\u001b[0m \u001b[0;34m=\u001b[0m \u001b[0mself\u001b[0m\u001b[0;34m.\u001b[0m\u001b[0m_get_module\u001b[0m\u001b[0;34m(\u001b[0m\u001b[0mname\u001b[0m\u001b[0;34m)\u001b[0m\u001b[0;34m\u001b[0m\u001b[0;34m\u001b[0m\u001b[0m\n\u001b[1;32m   2270\u001b[0m         \u001b[0;32melif\u001b[0m \u001b[0mname\u001b[0m \u001b[0;32min\u001b[0m \u001b[0mself\u001b[0m\u001b[0;34m.\u001b[0m\u001b[0m_class_to_module\u001b[0m\u001b[0;34m.\u001b[0m\u001b[0mkeys\u001b[0m\u001b[0;34m(\u001b[0m\u001b[0;34m)\u001b[0m\u001b[0;34m:\u001b[0m\u001b[0;34m\u001b[0m\u001b[0;34m\u001b[0m\u001b[0m\n\u001b[0;32m-> 2271\u001b[0;31m             \u001b[0mmodule\u001b[0m \u001b[0;34m=\u001b[0m \u001b[0mself\u001b[0m\u001b[0;34m.\u001b[0m\u001b[0m_get_module\u001b[0m\u001b[0;34m(\u001b[0m\u001b[0mself\u001b[0m\u001b[0;34m.\u001b[0m\u001b[0m_class_to_module\u001b[0m\u001b[0;34m[\u001b[0m\u001b[0mname\u001b[0m\u001b[0;34m]\u001b[0m\u001b[0;34m)\u001b[0m\u001b[0;34m\u001b[0m\u001b[0;34m\u001b[0m\u001b[0m\n\u001b[0m\u001b[1;32m   2272\u001b[0m             \u001b[0mvalue\u001b[0m \u001b[0;34m=\u001b[0m \u001b[0mgetattr\u001b[0m\u001b[0;34m(\u001b[0m\u001b[0mmodule\u001b[0m\u001b[0;34m,\u001b[0m \u001b[0mname\u001b[0m\u001b[0;34m)\u001b[0m\u001b[0;34m\u001b[0m\u001b[0;34m\u001b[0m\u001b[0m\n\u001b[1;32m   2273\u001b[0m         \u001b[0;32melse\u001b[0m\u001b[0;34m:\u001b[0m\u001b[0;34m\u001b[0m\u001b[0;34m\u001b[0m\u001b[0m\n",
      "\u001b[0;32m/opt/anaconda3/envs/fyp/lib/python3.7/site-packages/transformers/file_utils.py\u001b[0m in \u001b[0;36m_get_module\u001b[0;34m(self, module_name)\u001b[0m\n\u001b[1;32m   2283\u001b[0m             raise RuntimeError(\n\u001b[1;32m   2284\u001b[0m                 \u001b[0;34mf\"Failed to import {self.__name__}.{module_name} because of the following error (look up to see its traceback):\\n{e}\"\u001b[0m\u001b[0;34m\u001b[0m\u001b[0;34m\u001b[0m\u001b[0m\n\u001b[0;32m-> 2285\u001b[0;31m             ) from e\n\u001b[0m\u001b[1;32m   2286\u001b[0m \u001b[0;34m\u001b[0m\u001b[0m\n\u001b[1;32m   2287\u001b[0m     \u001b[0;32mdef\u001b[0m \u001b[0m__reduce__\u001b[0m\u001b[0;34m(\u001b[0m\u001b[0mself\u001b[0m\u001b[0;34m)\u001b[0m\u001b[0;34m:\u001b[0m\u001b[0;34m\u001b[0m\u001b[0;34m\u001b[0m\u001b[0m\n",
      "\u001b[0;31mRuntimeError\u001b[0m: Failed to import transformers.models.bert because of the following error (look up to see its traceback):\nFailed to import transformers.modeling_tf_utils because of the following error (look up to see its traceback):\nNo module named 'tensorflow.python.keras.engine.keras_tensor'"
     ]
    }
   ],
   "source": [
    "import create_vocab\n",
    "import data_to_tensors\n",
    "from train_class import TrainingModule\n",
    "from torch.utils.data import DataLoader\n",
    "\n",
    "import torch\n",
    "import torch.nn as nn\n",
    "import torch.nn.functional as F\n",
    "import random \n",
    "import model_implementation\n"
   ]
  },
  {
   "cell_type": "markdown",
   "metadata": {
    "colab_type": "text",
    "id": "-BiElxB55n7d"
   },
   "source": [
    "# Because their data looks like this: we have 3 main dictionaries:\n",
    "* dictionary of all words in the sheets\n",
    "* dictionary of all paths(they are already hashed and converted to digits)\n",
    "* dictionary of targets(method names)\n"
   ]
  },
  {
   "cell_type": "code",
   "execution_count": 6,
   "metadata": {
    "colab": {},
    "colab_type": "code",
    "id": "3BunJzhfZ_jd"
   },
   "outputs": [],
   "source": [
    "dict_path = 'data/CODES_emb/CODES_emb.dict.c2v'\n",
    "word2idx, path2idx, target2idx, idx2target = create_vocab.create_vocab(dict_path)"
   ]
  },
  {
   "cell_type": "markdown",
   "metadata": {
    "colab_type": "text",
    "id": "OUJ5hZCS_DnF"
   },
   "source": [
    "* 1) data_iterator Returns 1024 batches each(the size can be changed when calling the function)\n",
    "* 2) from below you can see how the data is accessed, then 3 vectors are fed to the model(sorry for such names, I think you will understand from the arguments of the model that the output is)\n",
    "* 3) well, at the output we have code_vector and the second vector-probability distribution between all labels in target_vocab(dictionary of method names)"
   ]
  },
  {
   "cell_type": "code",
   "execution_count": 7,
   "metadata": {
    "colab": {},
    "colab_type": "code",
    "id": "WctOcjFevCYv"
   },
   "outputs": [],
   "source": [
    "# path_for_train = 'data/functions_emb/functions_emb.train.c2v'\n",
    "path_for_train = 'data/CODES_emb/CODES_emb.train.c2v'\n",
    "train_dataset = data_to_tensors.TextDataset(path_for_train, \n",
    "                                                    word2idx, \n",
    "                                                    path2idx, \n",
    "                                                    target2idx)\n",
    "\n",
    "# path_for_val = 'data/functions_emb/functions_emb.val.c2v'\n",
    "path_for_val = 'data/CODES_emb/CODES_emb.val.c2v'\n",
    "val_dataset = data_to_tensors.TextDataset(path_for_val, \n",
    "                                                    word2idx, \n",
    "                                                    path2idx, \n",
    "                                                    target2idx)\n",
    "# path_for_test = 'data/functions_emb/functions_emb.test.c2v'\n",
    "path_for_test = 'data/CODES_emb/CODES_emb.test.c2v'\n",
    "test_dataset = data_to_tensors.TextDataset(path_for_test, \n",
    "                                                    word2idx, \n",
    "                                                    path2idx, \n",
    "                                                    target2idx)\n",
    "\n",
    "train_loader = DataLoader(train_dataset, batch_size=512, shuffle=True)\n",
    "val_loader = DataLoader(val_dataset, batch_size=512, shuffle=False)\n",
    "test_loader = DataLoader(test_dataset, batch_size=512, shuffle=False)"
   ]
  },
  {
   "cell_type": "markdown",
   "metadata": {
    "colab_type": "text",
    "id": "rQx0PLsMopZ1"
   },
   "source": [
    "# Train"
   ]
  },
  {
   "cell_type": "code",
   "execution_count": 8,
   "metadata": {
    "colab": {},
    "colab_type": "code",
    "id": "DGiy8Phzhk3w"
   },
   "outputs": [],
   "source": [
    "SEED = 1337\n",
    "random.seed(SEED)\n",
    "torch.manual_seed(SEED)\n",
    "torch.cuda.manual_seed(SEED)\n",
    "torch.backends.cudnn.deterministic = True"
   ]
  },
  {
   "cell_type": "markdown",
   "metadata": {
    "colab_type": "text",
    "id": "vHHx7d61Cmgt"
   },
   "source": [
    "# Model choose\n",
    "\n",
    "* if you want to use the original model: bert = False\n",
    "* if you want to use Bert model: bert = True\n"
   ]
  },
  {
   "cell_type": "code",
   "execution_count": 10,
   "metadata": {
    "colab": {},
    "colab_type": "code",
    "id": "qcu360GpE_eA"
   },
   "outputs": [],
   "source": [
    "bert = False"
   ]
  },
  {
   "cell_type": "code",
   "execution_count": 11,
   "metadata": {
    "colab": {},
    "colab_type": "code",
    "id": "e8jnWVAnDEz1"
   },
   "outputs": [],
   "source": [
    "# In case of bert\n",
    "bert_params = dict()\n",
    "bert_params['num_attention_heads'] = 1\n",
    "bert_params['num_transformer_layers'] = 1\n",
    "bert_params['intermediate_size'] = 32\n",
    "\n",
    "if bert:\n",
    "    model = model_implementation.code2vec_model(values_vocab_size = len(word2idx), \n",
    "                             paths_vocab_size = len(path2idx), \n",
    "                             labels_num = len(target2idx), bert=bert, bert_params=bert_params)"
   ]
  },
  {
   "cell_type": "code",
   "execution_count": 12,
   "metadata": {
    "colab": {},
    "colab_type": "code",
    "id": "UUd5Yv3fmrBQ"
   },
   "outputs": [],
   "source": [
    "# In case if not bert\n",
    "if not bert:\n",
    "    model = model_implementation.code2vec_model(values_vocab_size = len(word2idx), \n",
    "                                 paths_vocab_size = len(path2idx), \n",
    "                                 labels_num = len(target2idx))"
   ]
  },
  {
   "cell_type": "code",
   "execution_count": 13,
   "metadata": {
    "colab": {
     "base_uri": "https://localhost:8080/",
     "height": 84
    },
    "colab_type": "code",
    "id": "CPVWRPDmmyUQ",
    "outputId": "a2fdd942-1512-4ba4-e99e-288b7eae342a"
   },
   "outputs": [
    {
     "name": "stdout",
     "output_type": "stream",
     "text": [
      "Epoch 1: train loss - 1.42532, validation loss - 1.21798 xyxyxyxyxyxyxyxxy\n",
      "\t Validation: precision - 0.46154, recall - 0.46154, f1_score - 0.46154\n",
      "$$$$$\n",
      "Elapsed time: 2.794\n",
      "----------------------------------------------------------------------\n",
      "Epoch 2: train loss - 1.12971, validation loss - 1.19127 xyxyxyxyxyxyxyxxy\n",
      "\t Validation: precision - 0.36923, recall - 0.36923, f1_score - 0.36923\n",
      "$$$$$\n",
      "Elapsed time: 2.715\n",
      "----------------------------------------------------------------------\n",
      "Epoch 3: train loss - 1.09331, validation loss - 1.21041 xyxyxyxyxyxyxyxxy\n",
      "\t Validation: precision - 0.44615, recall - 0.44615, f1_score - 0.44615\n",
      "$$$$$\n",
      "Elapsed time: 4.543\n",
      "----------------------------------------------------------------------\n",
      "Epoch 4: train loss - 1.11219, validation loss - 1.17079 xyxyxyxyxyxyxyxxy\n",
      "\t Validation: precision - 0.41538, recall - 0.41538, f1_score - 0.41538\n",
      "$$$$$\n",
      "Elapsed time: 5.591\n",
      "----------------------------------------------------------------------\n",
      "Epoch 5: train loss - 1.09723, validation loss - 1.1416 xyxyxyxyxyxyxyxxy\n",
      "\t Validation: precision - 0.44615, recall - 0.44615, f1_score - 0.44615\n",
      "$$$$$\n",
      "Elapsed time: 6.107\n",
      "----------------------------------------------------------------------\n",
      "Epoch 6: train loss - 1.09943, validation loss - 1.16726 xyxyxyxyxyxyxyxxy\n",
      "\t Validation: precision - 0.44615, recall - 0.44615, f1_score - 0.44615\n",
      "$$$$$\n",
      "Elapsed time: 6.528\n",
      "----------------------------------------------------------------------\n",
      "Epoch 7: train loss - 1.08138, validation loss - 1.1612 xyxyxyxyxyxyxyxxy\n",
      "\t Validation: precision - 0.49231, recall - 0.49231, f1_score - 0.49231\n",
      "$$$$$\n",
      "Elapsed time: 6.914\n",
      "----------------------------------------------------------------------\n",
      "Epoch 8: train loss - 1.0873, validation loss - 1.17181 xyxyxyxyxyxyxyxxy\n",
      "\t Validation: precision - 0.49231, recall - 0.49231, f1_score - 0.49231\n",
      "$$$$$\n",
      "Elapsed time: 6.503\n",
      "----------------------------------------------------------------------\n",
      "Epoch 9: train loss - 1.09268, validation loss - 1.18792 xyxyxyxyxyxyxyxxy\n",
      "\t Validation: precision - 0.43077, recall - 0.43077, f1_score - 0.43077\n",
      "$$$$$\n",
      "Elapsed time: 6.161\n",
      "----------------------------------------------------------------------\n",
      "Epoch 10: train loss - 1.08745, validation loss - 1.19307 xyxyxyxyxyxyxyxxy\n",
      "\t Validation: precision - 0.43077, recall - 0.43077, f1_score - 0.43077\n",
      "$$$$$\n",
      "Elapsed time: 6.055\n",
      "----------------------------------------------------------------------\n",
      "Epoch 11: train loss - 1.05746, validation loss - 1.18583 xyxyxyxyxyxyxyxxy\n",
      "\t Validation: precision - 0.47692, recall - 0.47692, f1_score - 0.47692\n",
      "$$$$$\n",
      "Elapsed time: 6.093\n",
      "----------------------------------------------------------------------\n",
      "Epoch 12: train loss - 1.07001, validation loss - 1.1782 xyxyxyxyxyxyxyxxy\n",
      "\t Validation: precision - 0.35385, recall - 0.35385, f1_score - 0.35385\n",
      "$$$$$\n",
      "Elapsed time: 6.461\n",
      "----------------------------------------------------------------------\n",
      "Epoch 13: train loss - 1.06353, validation loss - 1.18041 xyxyxyxyxyxyxyxxy\n",
      "\t Validation: precision - 0.46154, recall - 0.46154, f1_score - 0.46154\n",
      "$$$$$\n",
      "Elapsed time: 6.219\n",
      "----------------------------------------------------------------------\n",
      "Epoch 14: train loss - 1.06812, validation loss - 1.1876 xyxyxyxyxyxyxyxxy\n",
      "\t Validation: precision - 0.44615, recall - 0.44615, f1_score - 0.44615\n",
      "$$$$$\n",
      "Elapsed time: 6.693\n",
      "----------------------------------------------------------------------\n",
      "Epoch 15: train loss - 1.09397, validation loss - 1.18375 xyxyxyxyxyxyxyxxy\n",
      "\t Validation: precision - 0.44615, recall - 0.44615, f1_score - 0.44615\n",
      "$$$$$\n",
      "Elapsed time: 7.296\n",
      "----------------------------------------------------------------------\n",
      "Epoch 16: train loss - 1.07482, validation loss - 1.18275 xyxyxyxyxyxyxyxxy\n",
      "\t Validation: precision - 0.44615, recall - 0.44615, f1_score - 0.44615\n",
      "$$$$$\n",
      "Elapsed time: 7.660\n",
      "----------------------------------------------------------------------\n",
      "Epoch 17: train loss - 1.0879, validation loss - 1.18944 xyxyxyxyxyxyxyxxy\n",
      "\t Validation: precision - 0.35385, recall - 0.35385, f1_score - 0.35385\n",
      "$$$$$\n",
      "Elapsed time: 8.198\n",
      "----------------------------------------------------------------------\n",
      "Epoch 18: train loss - 1.0627, validation loss - 1.19654 xyxyxyxyxyxyxyxxy\n",
      "\t Validation: precision - 0.41538, recall - 0.41538, f1_score - 0.41538\n",
      "$$$$$\n",
      "Elapsed time: 9.208\n",
      "----------------------------------------------------------------------\n",
      "Epoch 19: train loss - 1.09188, validation loss - 1.20723 xyxyxyxyxyxyxyxxy\n",
      "\t Validation: precision - 0.41538, recall - 0.41538, f1_score - 0.41538\n",
      "$$$$$\n",
      "Elapsed time: 10.847\n",
      "----------------------------------------------------------------------\n",
      "Epoch 20: train loss - 1.06256, validation loss - 1.19369 xyxyxyxyxyxyxyxxy\n",
      "\t Validation: precision - 0.43077, recall - 0.43077, f1_score - 0.43077\n",
      "$$$$$\n",
      "Elapsed time: 11.580\n",
      "----------------------------------------------------------------------\n",
      "Epoch 21: train loss - 1.06015, validation loss - 1.18237 xyxyxyxyxyxyxyxxy\n",
      "\t Validation: precision - 0.4, recall - 0.4, f1_score - 0.4\n",
      "$$$$$\n",
      "Elapsed time: 11.205\n",
      "----------------------------------------------------------------------\n",
      "Epoch 22: train loss - 1.07233, validation loss - 1.18611 xyxyxyxyxyxyxyxxy\n",
      "\t Validation: precision - 0.4, recall - 0.4, f1_score - 0.4\n",
      "$$$$$\n",
      "Elapsed time: 10.799\n",
      "----------------------------------------------------------------------\n",
      "Epoch 23: train loss - 1.05039, validation loss - 1.20056 xyxyxyxyxyxyxyxxy\n",
      "\t Validation: precision - 0.4, recall - 0.4, f1_score - 0.4\n",
      "$$$$$\n",
      "Elapsed time: 10.379\n",
      "----------------------------------------------------------------------\n",
      "Epoch 24: train loss - 1.08175, validation loss - 1.2054 xyxyxyxyxyxyxyxxy\n",
      "\t Validation: precision - 0.38462, recall - 0.38462, f1_score - 0.38462\n",
      "$$$$$\n",
      "Elapsed time: 10.257\n",
      "----------------------------------------------------------------------\n",
      "Epoch 25: train loss - 1.06327, validation loss - 1.20288 xyxyxyxyxyxyxyxxy\n",
      "\t Validation: precision - 0.4, recall - 0.4, f1_score - 0.4\n",
      "$$$$$\n",
      "Elapsed time: 10.336\n",
      "----------------------------------------------------------------------\n",
      "Epoch 26: train loss - 1.06463, validation loss - 1.20272 xyxyxyxyxyxyxyxxy\n",
      "\t Validation: precision - 0.4, recall - 0.4, f1_score - 0.4\n",
      "$$$$$\n",
      "Elapsed time: 10.588\n",
      "----------------------------------------------------------------------\n",
      "Epoch 27: train loss - 1.06551, validation loss - 1.20235 xyxyxyxyxyxyxyxxy\n",
      "\t Validation: precision - 0.4, recall - 0.4, f1_score - 0.4\n",
      "$$$$$\n",
      "Elapsed time: 11.015\n",
      "----------------------------------------------------------------------\n",
      "Epoch 28: train loss - 1.06957, validation loss - 1.20466 xyxyxyxyxyxyxyxxy\n",
      "\t Validation: precision - 0.43077, recall - 0.43077, f1_score - 0.43077\n",
      "$$$$$\n",
      "Elapsed time: 11.615\n",
      "----------------------------------------------------------------------\n",
      "Epoch 29: train loss - 1.04455, validation loss - 1.19579 xyxyxyxyxyxyxyxxy\n",
      "\t Validation: precision - 0.4, recall - 0.4, f1_score - 0.4\n",
      "$$$$$\n",
      "Elapsed time: 12.135\n",
      "----------------------------------------------------------------------\n",
      "Epoch 30: train loss - 1.04863, validation loss - 1.19305 xyxyxyxyxyxyxyxxy\n",
      "\t Validation: precision - 0.4, recall - 0.4, f1_score - 0.4\n",
      "$$$$$\n",
      "Elapsed time: 12.850\n",
      "----------------------------------------------------------------------\n",
      "Epoch 31: train loss - 1.05265, validation loss - 1.19533 xyxyxyxyxyxyxyxxy\n",
      "\t Validation: precision - 0.4, recall - 0.4, f1_score - 0.4\n",
      "$$$$$\n",
      "Elapsed time: 12.796\n",
      "----------------------------------------------------------------------\n",
      "Epoch 32: train loss - 1.03462, validation loss - 1.19934 xyxyxyxyxyxyxyxxy\n",
      "\t Validation: precision - 0.4, recall - 0.4, f1_score - 0.4\n",
      "$$$$$\n",
      "Elapsed time: 12.762\n",
      "----------------------------------------------------------------------\n",
      "Epoch 33: train loss - 1.05898, validation loss - 1.20289 xyxyxyxyxyxyxyxxy\n",
      "\t Validation: precision - 0.4, recall - 0.4, f1_score - 0.4\n",
      "$$$$$\n",
      "Elapsed time: 12.357\n",
      "----------------------------------------------------------------------\n",
      "Epoch 34: train loss - 1.03863, validation loss - 1.20874 xyxyxyxyxyxyxyxxy\n",
      "\t Validation: precision - 0.4, recall - 0.4, f1_score - 0.4\n",
      "$$$$$\n",
      "Elapsed time: 11.926\n",
      "----------------------------------------------------------------------\n",
      "Epoch 35: train loss - 1.08023, validation loss - 1.21263 xyxyxyxyxyxyxyxxy\n",
      "\t Validation: precision - 0.4, recall - 0.4, f1_score - 0.4\n",
      "$$$$$\n",
      "Elapsed time: 11.376\n",
      "----------------------------------------------------------------------\n",
      "Epoch 36: train loss - 1.05835, validation loss - 1.21488 xyxyxyxyxyxyxyxxy\n",
      "\t Validation: precision - 0.33846, recall - 0.33846, f1_score - 0.33846\n",
      "$$$$$\n",
      "Elapsed time: 10.972\n",
      "----------------------------------------------------------------------\n",
      "Epoch 37: train loss - 1.06846, validation loss - 1.21304 xyxyxyxyxyxyxyxxy\n",
      "\t Validation: precision - 0.35385, recall - 0.35385, f1_score - 0.35385\n",
      "$$$$$\n",
      "Elapsed time: 10.816\n",
      "----------------------------------------------------------------------\n",
      "Epoch 38: train loss - 1.05451, validation loss - 1.20925 xyxyxyxyxyxyxyxxy\n",
      "\t Validation: precision - 0.35385, recall - 0.35385, f1_score - 0.35385\n",
      "$$$$$\n",
      "Elapsed time: 11.140\n",
      "----------------------------------------------------------------------\n",
      "Epoch 39: train loss - 1.03561, validation loss - 1.19826 xyxyxyxyxyxyxyxxy\n",
      "\t Validation: precision - 0.4, recall - 0.4, f1_score - 0.4\n",
      "$$$$$\n",
      "Elapsed time: 11.572\n",
      "----------------------------------------------------------------------\n",
      "Epoch 40: train loss - 1.03578, validation loss - 1.17739 xyxyxyxyxyxyxyxxy\n",
      "\t Validation: precision - 0.41538, recall - 0.41538, f1_score - 0.41538\n",
      "$$$$$\n",
      "Elapsed time: 12.231\n",
      "----------------------------------------------------------------------\n"
     ]
    }
   ],
   "source": [
    "N_EPOCHS = 40\n",
    "LR = 3e-3\n",
    "WD = 0.8e-5\n",
    "\n",
    "optimizer = torch.optim.Adam(model.parameters(), lr=LR, weight_decay=WD)\n",
    "criterion = nn.CrossEntropyLoss()\n",
    "\n",
    "train_class = TrainingModule(model, optimizer, criterion, train_loader, val_loader, test_loader, N_EPOCHS, idx2target)\n",
    "list_train_loss, list_val_loss, list_train_precision, list_val_precision,list_train_recall, list_val_recall, list_train_f1, list_val_f1 = train_class.train(bert, 'CODES_emb')\n"
   ]
  },
  {
   "cell_type": "markdown",
   "metadata": {
    "colab_type": "text",
    "id": "NlFzvQyPFWZ8"
   },
   "source": [
    "# Predict and show names!"
   ]
  },
  {
   "cell_type": "markdown",
   "metadata": {
    "colab_type": "text",
    "id": "OAjRth0XFhWY"
   },
   "source": [
    "Go to weights of our models in order to take a view on how they pridect names: https://drive.google.com/drive/u/2/folders/1Q5ixv8dQ_qYqHg6w4Ep_XNeCJYZE6Cl2"
   ]
  },
  {
   "cell_type": "markdown",
   "metadata": {
    "colab_type": "text",
    "id": "oWqc2-P5FvSa"
   },
   "source": [
    "You need to:\n",
    "* Visit the above Drive folder.\n",
    "* Right click on folder name -> \"Add a shortcut to Drive\" -> select \"My Drive\" -> \"Add shortcut\"."
   ]
  },
  {
   "cell_type": "markdown",
   "metadata": {
    "colab_type": "text",
    "id": "iejx5jtCGESn"
   },
   "source": [
    "### Have an access to these weights"
   ]
  },
  {
   "cell_type": "code",
   "execution_count": null,
   "metadata": {
    "colab": {
     "base_uri": "https://localhost:8080/",
     "height": 121
    },
    "colab_type": "code",
    "id": "vyqDgtuYFadi",
    "outputId": "e369de0e-6296-4918-d015-6d790380f08d"
   },
   "outputs": [],
   "source": [
    "# Detect if we are in Google Colaboratory\n",
    "try:\n",
    "    import google.colab\n",
    "    IN_COLAB = True\n",
    "except ImportError:\n",
    "    IN_COLAB = False\n",
    "\n",
    "from pathlib import Path\n",
    "# Determine the locations of auxiliary libraries and datasets.\n",
    "# `AUX_DATA_ROOT` is where 'notmnist.py', 'animation.py' and 'tiny-imagenet-2020.zip' are.\n",
    "if IN_COLAB:\n",
    "    google.colab.drive.mount(\"/content/drive/\")\n",
    "    \n",
    "    # Change this if you created the shortcut in a different location\n",
    "    AUX_DATA_ROOT = Path(\"/content/drive/My Drive/best_models/\")\n",
    "    \n",
    "    assert AUX_DATA_ROOT.is_dir(), \"Have you forgot to 'Add a shortcut to Drive'?\"\n",
    "else:\n",
    "    AUX_DATA_ROOT = Path(\".\")"
   ]
  },
  {
   "cell_type": "markdown",
   "metadata": {
    "colab_type": "text",
    "id": "tvPBQ6ioGMym"
   },
   "source": [
    "#### DEFINE model\n",
    "* If you want to test original paper model:"
   ]
  },
  {
   "cell_type": "code",
   "execution_count": null,
   "metadata": {
    "colab": {
     "base_uri": "https://localhost:8080/",
     "height": 34
    },
    "colab_type": "code",
    "id": "cpv6b0XDFagA",
    "outputId": "02f9f970-825e-43fa-8b46-46c6ae7f8ade"
   },
   "outputs": [],
   "source": [
    "if bert == False:\n",
    "  state_dict = torch.load('/Users/alishbahiqbal/Desktop/c2v_pytorch/Code2vec_Pytorch_pipeline/a3_q1_emb_article_model.pth')\n",
    "else:\n",
    "  state_dict = torch.load('/Users/alishbahiqbal/Desktop/c2v_pytorch/Code2vec_Pytorch_pipeline/CODES_emb_bert_model.pth')\n",
    "\n",
    "model.load_state_dict(state_dict)\n",
    "\n",
    "DEVICE = torch.device(\"cuda:0\" if torch.cuda.is_available() else \"cpu\")\n",
    "\n",
    "model = model.to(DEVICE)"
   ]
  },
  {
   "cell_type": "markdown",
   "metadata": {
    "colab_type": "text",
    "id": "KS-EkP8-GeHm"
   },
   "source": [
    "#### Let's test it on the test dataset"
   ]
  },
  {
   "cell_type": "markdown",
   "metadata": {
    "colab_type": "text",
    "id": "p-zCjrkoP34o"
   },
   "source": [
    "#  \\<UNK\\> means that this name doen't exist in our dictionary of labels:("
   ]
  },
  {
   "cell_type": "code",
   "execution_count": null,
   "metadata": {
    "colab": {
     "base_uri": "https://localhost:8080/",
     "height": 455
    },
    "colab_type": "code",
    "id": "MaxEcfskFan8",
    "outputId": "3deced73-6333-4212-b600-f56a8c9a88f3"
   },
   "outputs": [
    {
     "name": "stderr",
     "output_type": "stream",
     "text": [
      "/opt/anaconda3/envs/fyp/lib/python3.7/site-packages/ipykernel_launcher.py:10: UserWarning: Implicit dimension choice for softmax has been deprecated. Change the call to include dim=X as an argument.\n",
      "  # Remove the CWD from sys.path while we load stuff.\n"
     ]
    },
    {
     "data": {
      "text/html": [
       "<div>\n",
       "<style scoped>\n",
       "    .dataframe tbody tr th:only-of-type {\n",
       "        vertical-align: middle;\n",
       "    }\n",
       "\n",
       "    .dataframe tbody tr th {\n",
       "        vertical-align: top;\n",
       "    }\n",
       "\n",
       "    .dataframe thead th {\n",
       "        text-align: right;\n",
       "    }\n",
       "</style>\n",
       "<table border=\"1\" class=\"dataframe\">\n",
       "  <thead>\n",
       "    <tr style=\"text-align: right;\">\n",
       "      <th></th>\n",
       "      <th>Original names</th>\n",
       "      <th>Predicted names</th>\n",
       "    </tr>\n",
       "  </thead>\n",
       "  <tbody>\n",
       "    <tr>\n",
       "      <th>0</th>\n",
       "      <td>&lt;unk&gt;</td>\n",
       "      <td>7</td>\n",
       "    </tr>\n",
       "    <tr>\n",
       "      <th>1</th>\n",
       "      <td>10</td>\n",
       "      <td>7</td>\n",
       "    </tr>\n",
       "    <tr>\n",
       "      <th>2</th>\n",
       "      <td>10</td>\n",
       "      <td>7</td>\n",
       "    </tr>\n",
       "    <tr>\n",
       "      <th>3</th>\n",
       "      <td>7</td>\n",
       "      <td>7</td>\n",
       "    </tr>\n",
       "    <tr>\n",
       "      <th>4</th>\n",
       "      <td>7</td>\n",
       "      <td>7</td>\n",
       "    </tr>\n",
       "    <tr>\n",
       "      <th>...</th>\n",
       "      <td>...</td>\n",
       "      <td>...</td>\n",
       "    </tr>\n",
       "    <tr>\n",
       "      <th>59</th>\n",
       "      <td>10</td>\n",
       "      <td>10</td>\n",
       "    </tr>\n",
       "    <tr>\n",
       "      <th>60</th>\n",
       "      <td>2</td>\n",
       "      <td>7</td>\n",
       "    </tr>\n",
       "    <tr>\n",
       "      <th>61</th>\n",
       "      <td>7</td>\n",
       "      <td>7</td>\n",
       "    </tr>\n",
       "    <tr>\n",
       "      <th>62</th>\n",
       "      <td>10</td>\n",
       "      <td>7</td>\n",
       "    </tr>\n",
       "    <tr>\n",
       "      <th>63</th>\n",
       "      <td>7</td>\n",
       "      <td>7</td>\n",
       "    </tr>\n",
       "  </tbody>\n",
       "</table>\n",
       "<p>64 rows × 2 columns</p>\n",
       "</div>"
      ],
      "text/plain": [
       "   Original names Predicted names\n",
       "0           <unk>               7\n",
       "1              10               7\n",
       "2              10               7\n",
       "3               7               7\n",
       "4               7               7\n",
       "..            ...             ...\n",
       "59             10              10\n",
       "60              2               7\n",
       "61              7               7\n",
       "62             10               7\n",
       "63              7               7\n",
       "\n",
       "[64 rows x 2 columns]"
      ]
     },
     "metadata": {},
     "output_type": "display_data"
    }
   ],
   "source": [
    "import pandas as pd\n",
    "from IPython.display import display\n",
    "\n",
    "d = {'Original names': [], 'Predicted names': []}\n",
    "\n",
    "for start, path, end, label in iter(test_loader):\n",
    "    # get from model\n",
    "    code, y_pred = model(start.to(DEVICE), path.to(DEVICE), end.to(DEVICE))\n",
    "    # get probability\n",
    "    y_pred = F.softmax(y_pred)\n",
    "    # get best name index\n",
    "    y_pred = torch.argmax(y_pred, dim = 1)\n",
    "    \n",
    "    for i, j in zip(label, y_pred):\n",
    "      d['Original names'].append(idx2target[i.item()])\n",
    "      d['Predicted names'].append(idx2target[j.item()])\n",
    "    break\n",
    "\n",
    "df = pd.DataFrame(data=d)\n",
    "display(df,)"
   ]
  },
  {
   "cell_type": "code",
   "execution_count": null,
   "metadata": {},
   "outputs": [
    {
     "name": "stdout",
     "output_type": "stream",
     "text": [
      "   Original names Predicted names\n",
      "0           <unk>               7\n",
      "1              10               7\n",
      "2              10               7\n",
      "3               7               7\n",
      "4               7               7\n",
      "5              10               7\n",
      "6               7              10\n",
      "7              10              10\n",
      "8              10               7\n",
      "9               7               7\n",
      "10             10               7\n",
      "11              5               7\n",
      "12             10               7\n",
      "13              7               7\n",
      "14             10               7\n",
      "15              7               7\n",
      "16             10               7\n",
      "17             10               7\n",
      "18             10               7\n",
      "19              7               7\n",
      "20              7               7\n",
      "21             10               7\n",
      "22              5               7\n",
      "23             10               7\n",
      "24             10               7\n",
      "25              7               7\n",
      "26              7               7\n",
      "27             10               7\n",
      "28             10              10\n",
      "29              7               7\n",
      "30             10               7\n",
      "31              7               7\n",
      "32             10               7\n",
      "33              7               7\n",
      "34              7               7\n",
      "35              7               7\n",
      "36             10               7\n",
      "37              7               7\n",
      "38             10               7\n",
      "39              7              10\n",
      "40              7               7\n",
      "41             10               7\n",
      "42              7               7\n",
      "43             10              10\n",
      "44             10               7\n",
      "45             10               7\n",
      "46              7               7\n",
      "47             10               7\n",
      "48              7               7\n",
      "49              2               7\n",
      "50              7               7\n",
      "51             10               7\n",
      "52              7               7\n",
      "53             10               7\n",
      "54              2               7\n",
      "55             10               7\n",
      "56             10               7\n",
      "57              5              10\n",
      "58              7               7\n",
      "59             10              10\n",
      "60              2               7\n",
      "61              7               7\n",
      "62             10               7\n",
      "63              7               7\n"
     ]
    }
   ],
   "source": [
    "with pd.option_context('display.max_rows', 66, 'display.max_columns', 66):  # more options can be specified also\n",
    "    print(df)"
   ]
  },
  {
   "cell_type": "code",
   "execution_count": null,
   "metadata": {},
   "outputs": [],
   "source": []
  }
 ],
 "metadata": {
  "accelerator": "GPU",
  "colab": {
   "collapsed_sections": [],
   "name": "for_test_notebook.ipynb",
   "provenance": [],
   "toc_visible": true
  },
  "interpreter": {
   "hash": "2138777ef7f63e94b63f8f173f99e6575307319b60f1704ad728b595d02e0759"
  },
  "kernelspec": {
   "display_name": "Python 3.7.11 ('fyp')",
   "language": "python",
   "name": "python3"
  },
  "language_info": {
   "codemirror_mode": {
    "name": "ipython",
    "version": 3
   },
   "file_extension": ".py",
   "mimetype": "text/x-python",
   "name": "python",
   "nbconvert_exporter": "python",
   "pygments_lexer": "ipython3",
   "version": "3.7.11"
  }
 },
 "nbformat": 4,
 "nbformat_minor": 1
}
