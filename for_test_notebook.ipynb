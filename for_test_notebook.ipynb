{
 "cells": [
  {
   "cell_type": "markdown",
   "metadata": {
    "colab_type": "text",
    "id": "7qn8B7szM0I0"
   },
   "source": [
    "# Just info about your GPU and it's memory if you use collab"
   ]
  },
  {
   "cell_type": "code",
   "execution_count": 1,
   "metadata": {
    "colab": {
     "base_uri": "https://localhost:8080/",
     "height": 50
    },
    "colab_type": "code",
    "id": "Ms1tmZcz41iO",
    "outputId": "999fd104-0dcf-46b0-ccf2-cd297a4c9429"
   },
   "outputs": [
    {
     "name": "stdout",
     "output_type": "stream",
     "text": [
      "Gen RAM Free: 12.7 GB  | Proc size: 159.4 MB\n",
      "GPU RAM Free: 15079MB | Used: 0MB | Util   0% | Total 15079MB\n"
     ]
    }
   ],
   "source": [
    "# memory footprint support libraries/code\n",
    "!ln -sf /opt/bin/nvidia-smi /usr/bin/nvidia-smi\n",
    "!pip install gputil > /dev/null\n",
    "!pip install psutil > /dev/null\n",
    "!pip install humanize > /dev/null\n",
    "import psutil\n",
    "import humanize\n",
    "import os\n",
    "import GPUtil as GPU\n",
    "GPUs = GPU.getGPUs()\n",
    "# XXX: only one GPU on Colab and isn’t guara|nteed\n",
    "gpu = GPUs[0]\n",
    "def printm():\n",
    " process = psutil.Process(os.getpid())\n",
    " print(\"Gen RAM Free: \" + humanize.naturalsize( psutil.virtual_memory().available ), \" | Proc size: \" + humanize.naturalsize( process.memory_info().rss))\n",
    " print(\"GPU RAM Free: {0:.0f}MB | Used: {1:.0f}MB | Util {2:3.0f}% | Total {3:.0f}MB\".format(gpu.memoryFree, gpu.memoryUsed, gpu.memoryUtil*100, gpu.memoryTotal))\n",
    "printm() "
   ]
  },
  {
   "cell_type": "markdown",
   "metadata": {
    "colab_type": "text",
    "id": "N4QMIWS547iw"
   },
   "source": [
    "# Load our github repo"
   ]
  },
  {
   "cell_type": "code",
   "execution_count": 2,
   "metadata": {
    "colab": {
     "base_uri": "https://localhost:8080/",
     "height": 134
    },
    "colab_type": "code",
    "id": "kC1kxjE9ybjl",
    "outputId": "143659f6-2809-42c3-f44d-092aa6cd41a5"
   },
   "outputs": [
    {
     "name": "stdout",
     "output_type": "stream",
     "text": [
      "Cloning into 'DL_project_skoltech'...\n",
      "remote: Enumerating objects: 42, done.\u001b[K\n",
      "remote: Counting objects: 100% (42/42), done.\u001b[K\n",
      "remote: Compressing objects: 100% (42/42), done.\u001b[K\n",
      "remote: Total 632 (delta 26), reused 0 (delta 0), pack-reused 590\u001b[K\n",
      "Receiving objects: 100% (632/632), 141.43 KiB | 842.00 KiB/s, done.\n",
      "Resolving deltas: 100% (395/395), done.\n"
     ]
    }
   ],
   "source": [
    "!git clone https://github.com/Vitaly-Protasov/DL_project_skoltech"
   ]
  },
  {
   "cell_type": "code",
   "execution_count": 3,
   "metadata": {
    "colab": {
     "base_uri": "https://localhost:8080/",
     "height": 34
    },
    "colab_type": "code",
    "id": "EhzZ1XIiofJ7",
    "outputId": "3856908a-37c4-4e63-f67e-9940953b4e40"
   },
   "outputs": [
    {
     "name": "stdout",
     "output_type": "stream",
     "text": [
      "/content/DL_project_skoltech\n"
     ]
    }
   ],
   "source": [
    "cd DL_project_skoltech/"
   ]
  },
  {
   "cell_type": "markdown",
   "metadata": {
    "colab_type": "text",
    "id": "Djjc-tjuMhhu"
   },
   "source": [
    "# Download data script"
   ]
  },
  {
   "cell_type": "code",
   "execution_count": 4,
   "metadata": {
    "colab": {
     "base_uri": "https://localhost:8080/",
     "height": 286
    },
    "colab_type": "code",
    "id": "Lp4neYWhMUHQ",
    "outputId": "265de6d6-e262-4720-89ed-06f60504a22e"
   },
   "outputs": [
    {
     "name": "stdout",
     "output_type": "stream",
     "text": [
      "--2020-06-07 10:00:21--  https://s3.amazonaws.com/code2vec/data/java-small_data.tar.gz\n",
      "Resolving s3.amazonaws.com (s3.amazonaws.com)... 52.217.15.54\n",
      "Connecting to s3.amazonaws.com (s3.amazonaws.com)|52.217.15.54|:443... connected.\n",
      "HTTP request sent, awaiting response... 200 OK\n",
      "Length: 382731969 (365M) [application/x-tar]\n",
      "Saving to: ‘java-small_data.tar.gz’\n",
      "\n",
      "java-small_data.tar 100%[===================>] 365.00M  32.1MB/s    in 12s     \n",
      "\n",
      "2020-06-07 10:00:34 (30.2 MB/s) - ‘java-small_data.tar.gz’ saved [382731969/382731969]\n",
      "\n",
      "java-small/\n",
      "java-small/java-small.dict.c2v\n",
      "java-small/java-small.train.c2v\n",
      "java-small/java-small.val.c2v\n",
      "java-small/java-small.test.c2v\n"
     ]
    }
   ],
   "source": [
    "!bash download_data.sh"
   ]
  },
  {
   "cell_type": "markdown",
   "metadata": {
    "colab_type": "text",
    "id": "PR1ESa_BF__Q"
   },
   "source": [
    "# Install transformer lib"
   ]
  },
  {
   "cell_type": "code",
   "execution_count": null,
   "metadata": {
    "colab": {},
    "colab_type": "code",
    "id": "PlqhfEIME0RP"
   },
   "outputs": [],
   "source": [
    "! pip install transformers > /dev/null"
   ]
  },
  {
   "cell_type": "markdown",
   "metadata": {
    "colab_type": "text",
    "id": "mECUxIi85Cg9"
   },
   "source": [
    "# Import our modules and torch\n"
   ]
  },
  {
   "cell_type": "code",
   "execution_count": 1,
   "metadata": {
    "colab": {},
    "colab_type": "code",
    "id": "PK_PH-Wr0LAL"
   },
   "outputs": [],
   "source": [
    "import create_vocab\n",
    "import data_to_tensors\n",
    "import model_implementation\n",
    "from train_class import TrainingModule\n",
    "\n",
    "import torch\n",
    "import torch.nn as nn\n",
    "import torch.nn.functional as F\n",
    "import random \n",
    "\n",
    "from torch.utils.data import DataLoader"
   ]
  },
  {
   "cell_type": "markdown",
   "metadata": {
    "colab_type": "text",
    "id": "-BiElxB55n7d"
   },
   "source": [
    "# Because their data looks like this: we have 3 main dictionaries:\n",
    "* dictionary of all words in the sheets\n",
    "* dictionary of all paths(they are already hashed and converted to digits)\n",
    "* dictionary of targets(method names)\n"
   ]
  },
  {
   "cell_type": "code",
   "execution_count": 2,
   "metadata": {
    "colab": {},
    "colab_type": "code",
    "id": "3BunJzhfZ_jd"
   },
   "outputs": [],
   "source": [
    "dict_path = 'data/unique_ids2_emb/unique_ids2_emb.dict.c2v'\n",
    "word2idx, path2idx, target2idx, idx2target = create_vocab.create_vocab(dict_path)"
   ]
  },
  {
   "cell_type": "markdown",
   "metadata": {
    "colab_type": "text",
    "id": "OUJ5hZCS_DnF"
   },
   "source": [
    "* 1) data_iterator Returns 1024 batches each(the size can be changed when calling the function)\n",
    "* 2) from below you can see how the data is accessed, then 3 vectors are fed to the model(sorry for such names, I think you will understand from the arguments of the model that the output is)\n",
    "* 3) well, at the output we have code_vector and the second vector-probability distribution between all labels in target_vocab(dictionary of method names)"
   ]
  },
  {
   "cell_type": "code",
   "execution_count": 3,
   "metadata": {
    "colab": {},
    "colab_type": "code",
    "id": "WctOcjFevCYv"
   },
   "outputs": [],
   "source": [
    "path_for_train = 'data/unique_ids2_emb/unique_ids2_emb.train.c2v'\n",
    "train_dataset = data_to_tensors.TextDataset(path_for_train, \n",
    "                                                    word2idx, \n",
    "                                                    path2idx, \n",
    "                                                    target2idx)\n",
    "\n",
    "path_for_val = 'data/unique_ids2_emb/unique_ids2_emb.val.c2v'\n",
    "val_dataset = data_to_tensors.TextDataset(path_for_val, \n",
    "                                                    word2idx, \n",
    "                                                    path2idx, \n",
    "                                                    target2idx)\n",
    "\n",
    "path_for_test = 'data/unique_ids2_emb/unique_ids2_emb.test.c2v'\n",
    "test_dataset = data_to_tensors.TextDataset(path_for_test, \n",
    "                                                    word2idx, \n",
    "                                                    path2idx, \n",
    "                                                    target2idx)\n",
    "\n",
    "train_loader = DataLoader(train_dataset, batch_size=512, shuffle=True)\n",
    "val_loader = DataLoader(val_dataset, batch_size=512, shuffle=False)\n",
    "test_loader = DataLoader(test_dataset, batch_size=512, shuffle=False)"
   ]
  },
  {
   "cell_type": "markdown",
   "metadata": {
    "colab_type": "text",
    "id": "rQx0PLsMopZ1"
   },
   "source": [
    "# Train"
   ]
  },
  {
   "cell_type": "code",
   "execution_count": 4,
   "metadata": {
    "colab": {},
    "colab_type": "code",
    "id": "DGiy8Phzhk3w"
   },
   "outputs": [],
   "source": [
    "SEED = 1337\n",
    "random.seed(SEED)\n",
    "torch.manual_seed(SEED)\n",
    "torch.cuda.manual_seed(SEED)\n",
    "torch.backends.cudnn.deterministic = True"
   ]
  },
  {
   "cell_type": "markdown",
   "metadata": {
    "colab_type": "text",
    "id": "vHHx7d61Cmgt"
   },
   "source": [
    "# Model choose\n",
    "\n",
    "* if you want to use the original model: bert = False\n",
    "* if you want to use Bert model: bert = True\n"
   ]
  },
  {
   "cell_type": "code",
   "execution_count": 5,
   "metadata": {
    "colab": {},
    "colab_type": "code",
    "id": "qcu360GpE_eA"
   },
   "outputs": [],
   "source": [
    "bert = True"
   ]
  },
  {
   "cell_type": "code",
   "execution_count": 6,
   "metadata": {
    "colab": {},
    "colab_type": "code",
    "id": "e8jnWVAnDEz1"
   },
   "outputs": [],
   "source": [
    "# In case of bert\n",
    "bert_params = dict()\n",
    "bert_params['num_attention_heads'] = 1\n",
    "bert_params['num_transformer_layers'] = 1\n",
    "bert_params['intermediate_size'] = 32\n",
    "\n",
    "if bert:\n",
    "    model = model_implementation.code2vec_model(values_vocab_size = len(word2idx), \n",
    "                             paths_vocab_size = len(path2idx), \n",
    "                             labels_num = len(target2idx), bert=bert, bert_params=bert_params)"
   ]
  },
  {
   "cell_type": "code",
   "execution_count": 7,
   "metadata": {
    "colab": {},
    "colab_type": "code",
    "id": "UUd5Yv3fmrBQ"
   },
   "outputs": [],
   "source": [
    "# In case if not bert\n",
    "if not bert:\n",
    "    model = model_implementation.code2vec_model(values_vocab_size = len(word2idx), \n",
    "                                 paths_vocab_size = len(path2idx), \n",
    "                                 labels_num = len(target2idx))"
   ]
  },
  {
   "cell_type": "code",
   "execution_count": 8,
   "metadata": {
    "colab": {
     "base_uri": "https://localhost:8080/",
     "height": 84
    },
    "colab_type": "code",
    "id": "CPVWRPDmmyUQ",
    "outputId": "a2fdd942-1512-4ba4-e99e-288b7eae342a"
   },
   "outputs": [
    {
     "name": "stdout",
     "output_type": "stream",
     "text": [
      "Epoch 1: train loss - 2.92307, validation loss - 2.57806\n",
      "\t Validation: precision - 0.5, recall - 0.54545, f1_score - 0.52174\n",
      "Elapsed time: 1.475\n",
      "----------------------------------------------------------------------\n",
      "Epoch 2: train loss - 2.49902, validation loss - 2.05433\n",
      "\t Validation: precision - 0.72727, recall - 0.72727, f1_score - 0.72727\n",
      "Elapsed time: 1.088\n",
      "----------------------------------------------------------------------\n",
      "Epoch 3: train loss - 1.92294, validation loss - 1.46456\n",
      "\t Validation: precision - 0.81818, recall - 0.81818, f1_score - 0.81818\n",
      "Elapsed time: 1.031\n",
      "----------------------------------------------------------------------\n",
      "Epoch 4: train loss - 1.12418, validation loss - 1.21098\n",
      "\t Validation: precision - 0.81818, recall - 0.81818, f1_score - 0.81818\n",
      "Elapsed time: 1.110\n",
      "----------------------------------------------------------------------\n",
      "Epoch 5: train loss - 0.62579, validation loss - 1.27102\n",
      "\t Validation: precision - 0.81818, recall - 0.81818, f1_score - 0.81818\n",
      "Elapsed time: 1.026\n",
      "----------------------------------------------------------------------\n",
      "Epoch 6: train loss - 0.61996, validation loss - 1.38032\n",
      "\t Validation: precision - 0.81818, recall - 0.81818, f1_score - 0.81818\n",
      "Elapsed time: 1.035\n",
      "----------------------------------------------------------------------\n",
      "Epoch 7: train loss - 0.53551, validation loss - 1.46564\n",
      "\t Validation: precision - 0.81818, recall - 0.81818, f1_score - 0.81818\n",
      "Elapsed time: 1.079\n",
      "----------------------------------------------------------------------\n",
      "Epoch 8: train loss - 0.46318, validation loss - 1.52545\n",
      "\t Validation: precision - 0.81818, recall - 0.81818, f1_score - 0.81818\n",
      "Elapsed time: 1.060\n",
      "----------------------------------------------------------------------\n",
      "Epoch 9: train loss - 0.42271, validation loss - 1.55608\n",
      "\t Validation: precision - 0.81818, recall - 0.81818, f1_score - 0.81818\n",
      "Elapsed time: 1.129\n",
      "----------------------------------------------------------------------\n",
      "Epoch 10: train loss - 0.38426, validation loss - 1.55419\n",
      "\t Validation: precision - 0.81818, recall - 0.81818, f1_score - 0.81818\n",
      "Elapsed time: 0.948\n",
      "----------------------------------------------------------------------\n",
      "Epoch 11: train loss - 0.36335, validation loss - 1.52901\n",
      "\t Validation: precision - 0.81818, recall - 0.81818, f1_score - 0.81818\n",
      "Elapsed time: 0.943\n",
      "----------------------------------------------------------------------\n",
      "Epoch 12: train loss - 0.31454, validation loss - 1.52586\n",
      "\t Validation: precision - 0.81818, recall - 0.81818, f1_score - 0.81818\n",
      "Elapsed time: 0.947\n",
      "----------------------------------------------------------------------\n",
      "Epoch 13: train loss - 0.28227, validation loss - 1.54485\n",
      "\t Validation: precision - 0.81818, recall - 0.81818, f1_score - 0.81818\n",
      "Elapsed time: 0.939\n",
      "----------------------------------------------------------------------\n",
      "Epoch 14: train loss - 0.2457, validation loss - 1.56053\n",
      "\t Validation: precision - 0.81818, recall - 0.81818, f1_score - 0.81818\n",
      "Elapsed time: 0.943\n",
      "----------------------------------------------------------------------\n",
      "Epoch 15: train loss - 0.21407, validation loss - 1.56639\n",
      "\t Validation: precision - 0.81818, recall - 0.81818, f1_score - 0.81818\n",
      "Elapsed time: 0.941\n",
      "----------------------------------------------------------------------\n",
      "Epoch 16: train loss - 0.199, validation loss - 1.57007\n",
      "\t Validation: precision - 0.81818, recall - 0.81818, f1_score - 0.81818\n",
      "Elapsed time: 0.939\n",
      "----------------------------------------------------------------------\n",
      "Epoch 17: train loss - 0.18749, validation loss - 1.58306\n",
      "\t Validation: precision - 0.81818, recall - 0.81818, f1_score - 0.81818\n",
      "Elapsed time: 0.942\n",
      "----------------------------------------------------------------------\n",
      "Epoch 18: train loss - 0.1646, validation loss - 1.59126\n",
      "\t Validation: precision - 0.81818, recall - 0.81818, f1_score - 0.81818\n",
      "Elapsed time: 0.943\n",
      "----------------------------------------------------------------------\n",
      "Epoch 19: train loss - 0.15204, validation loss - 1.59073\n",
      "\t Validation: precision - 0.81818, recall - 0.81818, f1_score - 0.81818\n",
      "Elapsed time: 0.942\n",
      "----------------------------------------------------------------------\n",
      "Epoch 20: train loss - 0.1327, validation loss - 1.58139\n",
      "\t Validation: precision - 0.81818, recall - 0.81818, f1_score - 0.81818\n",
      "Elapsed time: 0.941\n",
      "----------------------------------------------------------------------\n"
     ]
    }
   ],
   "source": [
    "N_EPOCHS = 20\n",
    "LR = 3e-3\n",
    "WD = 0.8e-5\n",
    "\n",
    "optimizer = torch.optim.Adam(model.parameters(), lr=LR, weight_decay=WD)\n",
    "criterion = nn.CrossEntropyLoss()\n",
    "\n",
    "train_class = TrainingModule(model, optimizer, criterion, train_loader, val_loader, test_loader, N_EPOCHS, idx2target)\n",
    "list_train_loss, list_val_loss, list_train_precision, list_val_precision,list_train_recall, list_val_recall, list_train_f1, list_val_f1 = train_class.train()\n"
   ]
  },
  {
   "cell_type": "markdown",
   "metadata": {
    "colab_type": "text",
    "id": "NlFzvQyPFWZ8"
   },
   "source": [
    "# Predict and show names!"
   ]
  },
  {
   "cell_type": "markdown",
   "metadata": {
    "colab_type": "text",
    "id": "OAjRth0XFhWY"
   },
   "source": [
    "Go to weights of our models in order to take a view on how they pridect names: https://drive.google.com/drive/u/2/folders/1Q5ixv8dQ_qYqHg6w4Ep_XNeCJYZE6Cl2"
   ]
  },
  {
   "cell_type": "markdown",
   "metadata": {
    "colab_type": "text",
    "id": "oWqc2-P5FvSa"
   },
   "source": [
    "You need to:\n",
    "* Visit the above Drive folder.\n",
    "* Right click on folder name -> \"Add a shortcut to Drive\" -> select \"My Drive\" -> \"Add shortcut\"."
   ]
  },
  {
   "cell_type": "markdown",
   "metadata": {
    "colab_type": "text",
    "id": "iejx5jtCGESn"
   },
   "source": [
    "### Have an access to these weights"
   ]
  },
  {
   "cell_type": "code",
   "execution_count": 9,
   "metadata": {
    "colab": {
     "base_uri": "https://localhost:8080/",
     "height": 121
    },
    "colab_type": "code",
    "id": "vyqDgtuYFadi",
    "outputId": "e369de0e-6296-4918-d015-6d790380f08d"
   },
   "outputs": [],
   "source": [
    "# Detect if we are in Google Colaboratory\n",
    "try:\n",
    "    import google.colab\n",
    "    IN_COLAB = True\n",
    "except ImportError:\n",
    "    IN_COLAB = False\n",
    "\n",
    "from pathlib import Path\n",
    "# Determine the locations of auxiliary libraries and datasets.\n",
    "# `AUX_DATA_ROOT` is where 'notmnist.py', 'animation.py' and 'tiny-imagenet-2020.zip' are.\n",
    "if IN_COLAB:\n",
    "    google.colab.drive.mount(\"/content/drive/\")\n",
    "    \n",
    "    # Change this if you created the shortcut in a different location\n",
    "    AUX_DATA_ROOT = Path(\"/content/drive/My Drive/best_models/\")\n",
    "    \n",
    "    assert AUX_DATA_ROOT.is_dir(), \"Have you forgot to 'Add a shortcut to Drive'?\"\n",
    "else:\n",
    "    AUX_DATA_ROOT = Path(\".\")"
   ]
  },
  {
   "cell_type": "markdown",
   "metadata": {
    "colab_type": "text",
    "id": "tvPBQ6ioGMym"
   },
   "source": [
    "#### DEFINE model\n",
    "* If you want to test original paper model:"
   ]
  },
  {
   "cell_type": "code",
   "execution_count": 10,
   "metadata": {
    "colab": {
     "base_uri": "https://localhost:8080/",
     "height": 34
    },
    "colab_type": "code",
    "id": "cpv6b0XDFagA",
    "outputId": "02f9f970-825e-43fa-8b46-46c6ae7f8ade"
   },
   "outputs": [],
   "source": [
    "if bert == False:\n",
    "  state_dict = torch.load('best_model.pth')\n",
    "else:\n",
    "  state_dict = torch.load('best_model.pth')\n",
    "\n",
    "model.load_state_dict(state_dict)\n",
    "\n",
    "DEVICE = torch.device(\"cuda:0\" if torch.cuda.is_available() else \"cpu\")\n",
    "\n",
    "model = model.to(DEVICE)"
   ]
  },
  {
   "cell_type": "markdown",
   "metadata": {
    "colab_type": "text",
    "id": "KS-EkP8-GeHm"
   },
   "source": [
    "#### Let's test it on the test dataset"
   ]
  },
  {
   "cell_type": "markdown",
   "metadata": {
    "colab_type": "text",
    "id": "p-zCjrkoP34o"
   },
   "source": [
    "#  \\<UNK\\> means that this name doen't exist in our dictionary of labels:("
   ]
  },
  {
   "cell_type": "code",
   "execution_count": 11,
   "metadata": {
    "colab": {
     "base_uri": "https://localhost:8080/",
     "height": 455
    },
    "colab_type": "code",
    "id": "MaxEcfskFan8",
    "outputId": "3deced73-6333-4212-b600-f56a8c9a88f3"
   },
   "outputs": [
    {
     "name": "stderr",
     "output_type": "stream",
     "text": [
      "/Users/unaissiddiqui/opt/anaconda3/envs/Fyp/lib/python3.7/site-packages/ipykernel_launcher.py:10: UserWarning: Implicit dimension choice for softmax has been deprecated. Change the call to include dim=X as an argument.\n",
      "  # Remove the CWD from sys.path while we load stuff.\n"
     ]
    },
    {
     "data": {
      "text/html": [
       "<div>\n",
       "<style scoped>\n",
       "    .dataframe tbody tr th:only-of-type {\n",
       "        vertical-align: middle;\n",
       "    }\n",
       "\n",
       "    .dataframe tbody tr th {\n",
       "        vertical-align: top;\n",
       "    }\n",
       "\n",
       "    .dataframe thead th {\n",
       "        text-align: right;\n",
       "    }\n",
       "</style>\n",
       "<table border=\"1\" class=\"dataframe\">\n",
       "  <thead>\n",
       "    <tr style=\"text-align: right;\">\n",
       "      <th></th>\n",
       "      <th>Original names</th>\n",
       "      <th>Predicted names</th>\n",
       "    </tr>\n",
       "  </thead>\n",
       "  <tbody>\n",
       "    <tr>\n",
       "      <th>0</th>\n",
       "      <td>&lt;unk&gt;</td>\n",
       "      <td>functiondecl|sumission|num</td>\n",
       "    </tr>\n",
       "    <tr>\n",
       "      <th>1</th>\n",
       "      <td>main</td>\n",
       "      <td>main</td>\n",
       "    </tr>\n",
       "    <tr>\n",
       "      <th>2</th>\n",
       "      <td>main</td>\n",
       "      <td>main</td>\n",
       "    </tr>\n",
       "    <tr>\n",
       "      <th>3</th>\n",
       "      <td>main</td>\n",
       "      <td>main</td>\n",
       "    </tr>\n",
       "    <tr>\n",
       "      <th>4</th>\n",
       "      <td>main</td>\n",
       "      <td>main</td>\n",
       "    </tr>\n",
       "    <tr>\n",
       "      <th>5</th>\n",
       "      <td>main</td>\n",
       "      <td>main</td>\n",
       "    </tr>\n",
       "    <tr>\n",
       "      <th>6</th>\n",
       "      <td>main</td>\n",
       "      <td>main</td>\n",
       "    </tr>\n",
       "    <tr>\n",
       "      <th>7</th>\n",
       "      <td>&lt;unk&gt;</td>\n",
       "      <td>main</td>\n",
       "    </tr>\n",
       "    <tr>\n",
       "      <th>8</th>\n",
       "      <td>&lt;unk&gt;</td>\n",
       "      <td>main</td>\n",
       "    </tr>\n",
       "    <tr>\n",
       "      <th>9</th>\n",
       "      <td>main</td>\n",
       "      <td>main</td>\n",
       "    </tr>\n",
       "    <tr>\n",
       "      <th>10</th>\n",
       "      <td>main</td>\n",
       "      <td>main</td>\n",
       "    </tr>\n",
       "  </tbody>\n",
       "</table>\n",
       "</div>"
      ],
      "text/plain": [
       "   Original names             Predicted names\n",
       "0           <unk>  functiondecl|sumission|num\n",
       "1            main                        main\n",
       "2            main                        main\n",
       "3            main                        main\n",
       "4            main                        main\n",
       "5            main                        main\n",
       "6            main                        main\n",
       "7           <unk>                        main\n",
       "8           <unk>                        main\n",
       "9            main                        main\n",
       "10           main                        main"
      ]
     },
     "metadata": {},
     "output_type": "display_data"
    }
   ],
   "source": [
    "import pandas as pd\n",
    "from IPython.display import display\n",
    "\n",
    "d = {'Original names': [], 'Predicted names': []}\n",
    "\n",
    "for start, path, end, label in iter(test_loader):\n",
    "    # get from model\n",
    "    code, y_pred = model(start.to(DEVICE), path.to(DEVICE), end.to(DEVICE))\n",
    "    # get probability\n",
    "    y_pred = F.softmax(y_pred)\n",
    "    # get best name index\n",
    "    y_pred = torch.argmax(y_pred, dim = 1)\n",
    "    \n",
    "    for i, j in zip(label, y_pred):\n",
    "      d['Original names'].append(idx2target[i.item()])\n",
    "      d['Predicted names'].append(idx2target[j.item()])\n",
    "    break\n",
    "\n",
    "df = pd.DataFrame(data=d)\n",
    "display(df,)"
   ]
  }
 ],
 "metadata": {
  "accelerator": "GPU",
  "colab": {
   "collapsed_sections": [],
   "name": "for_test_notebook.ipynb",
   "provenance": [],
   "toc_visible": true
  },
  "kernelspec": {
   "display_name": "Python 3",
   "language": "python",
   "name": "python3"
  },
  "language_info": {
   "codemirror_mode": {
    "name": "ipython",
    "version": 3
   },
   "file_extension": ".py",
   "mimetype": "text/x-python",
   "name": "python",
   "nbconvert_exporter": "python",
   "pygments_lexer": "ipython3",
   "version": "3.7.11"
  }
 },
 "nbformat": 4,
 "nbformat_minor": 1
}
