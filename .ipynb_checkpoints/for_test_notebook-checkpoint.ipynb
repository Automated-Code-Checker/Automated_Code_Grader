{
 "cells": [
  {
   "cell_type": "markdown",
   "metadata": {
    "colab_type": "text",
    "id": "mECUxIi85Cg9"
   },
   "source": [
    "# Import our modules and torch\n"
   ]
  },
  {
   "cell_type": "code",
   "execution_count": 1,
   "metadata": {
    "colab": {},
    "colab_type": "code",
    "id": "PK_PH-Wr0LAL"
   },
   "outputs": [
    {
     "ename": "ModuleNotFoundError",
     "evalue": "No module named 'transformers'",
     "output_type": "error",
     "traceback": [
      "\u001b[0;31m---------------------------------------------------------------------------\u001b[0m",
      "\u001b[0;31mModuleNotFoundError\u001b[0m                       Traceback (most recent call last)",
      "\u001b[0;32m/var/folders/lp/8qls9f8d5831w65zw_yh3xp80000gn/T/ipykernel_30890/3644414648.py\u001b[0m in \u001b[0;36m<module>\u001b[0;34m\u001b[0m\n\u001b[1;32m      1\u001b[0m \u001b[0;32mimport\u001b[0m \u001b[0mcreate_vocab\u001b[0m\u001b[0;34m\u001b[0m\u001b[0;34m\u001b[0m\u001b[0m\n\u001b[1;32m      2\u001b[0m \u001b[0;32mimport\u001b[0m \u001b[0mdata_to_tensors\u001b[0m\u001b[0;34m\u001b[0m\u001b[0;34m\u001b[0m\u001b[0m\n\u001b[0;32m----> 3\u001b[0;31m \u001b[0;32mimport\u001b[0m \u001b[0mmodel_implementation\u001b[0m\u001b[0;34m\u001b[0m\u001b[0;34m\u001b[0m\u001b[0m\n\u001b[0m\u001b[1;32m      4\u001b[0m \u001b[0;32mfrom\u001b[0m \u001b[0mtrain_class\u001b[0m \u001b[0;32mimport\u001b[0m \u001b[0mTrainingModule\u001b[0m\u001b[0;34m\u001b[0m\u001b[0;34m\u001b[0m\u001b[0m\n\u001b[1;32m      5\u001b[0m \u001b[0;34m\u001b[0m\u001b[0m\n",
      "\u001b[0;32m~/Desktop/c2v_pytorch/Code2vec_Pytorch_pipeline/model_implementation.py\u001b[0m in \u001b[0;36m<module>\u001b[0;34m\u001b[0m\n\u001b[1;32m      2\u001b[0m \u001b[0;32mimport\u001b[0m \u001b[0mtorch\u001b[0m\u001b[0;34m.\u001b[0m\u001b[0mnn\u001b[0m \u001b[0;32mas\u001b[0m \u001b[0mnn\u001b[0m\u001b[0;34m\u001b[0m\u001b[0;34m\u001b[0m\u001b[0m\n\u001b[1;32m      3\u001b[0m \u001b[0;32mimport\u001b[0m \u001b[0mtorch\u001b[0m\u001b[0;34m.\u001b[0m\u001b[0mnn\u001b[0m\u001b[0;34m.\u001b[0m\u001b[0mfunctional\u001b[0m \u001b[0;32mas\u001b[0m \u001b[0mF\u001b[0m\u001b[0;34m\u001b[0m\u001b[0;34m\u001b[0m\u001b[0m\n\u001b[0;32m----> 4\u001b[0;31m \u001b[0;32mfrom\u001b[0m \u001b[0mtransformers\u001b[0m \u001b[0;32mimport\u001b[0m \u001b[0mBertModel\u001b[0m\u001b[0;34m,\u001b[0m \u001b[0mBertConfig\u001b[0m\u001b[0;34m\u001b[0m\u001b[0;34m\u001b[0m\u001b[0m\n\u001b[0m\u001b[1;32m      5\u001b[0m \u001b[0;34m\u001b[0m\u001b[0m\n\u001b[1;32m      6\u001b[0m \u001b[0;34m\u001b[0m\u001b[0m\n",
      "\u001b[0;31mModuleNotFoundError\u001b[0m: No module named 'transformers'"
     ]
    }
   ],
   "source": [
    "import create_vocab\n",
    "import data_to_tensors\n",
    "import model_implementation\n",
    "from train_class import TrainingModule\n",
    "\n",
    "import torch\n",
    "import torch.nn as nn\n",
    "import torch.nn.functional as F\n",
    "import random \n",
    "\n",
    "from torch.utils.data import DataLoader"
   ]
  },
  {
   "cell_type": "markdown",
   "metadata": {
    "colab_type": "text",
    "id": "-BiElxB55n7d"
   },
   "source": [
    "# Because their data looks like this: we have 3 main dictionaries:\n",
    "* dictionary of all words in the sheets\n",
    "* dictionary of all paths(they are already hashed and converted to digits)\n",
    "* dictionary of targets(method names)\n"
   ]
  },
  {
   "cell_type": "code",
   "execution_count": null,
   "metadata": {
    "colab": {},
    "colab_type": "code",
    "id": "3BunJzhfZ_jd"
   },
   "outputs": [],
   "source": [
    "dict_path = 'data/CODES_emb/CODES_emb.dict.c2v'\n",
    "word2idx, path2idx, target2idx, idx2target = create_vocab.create_vocab(dict_path)"
   ]
  },
  {
   "cell_type": "markdown",
   "metadata": {
    "colab_type": "text",
    "id": "OUJ5hZCS_DnF"
   },
   "source": [
    "* 1) data_iterator Returns 1024 batches each(the size can be changed when calling the function)\n",
    "* 2) from below you can see how the data is accessed, then 3 vectors are fed to the model(sorry for such names, I think you will understand from the arguments of the model that the output is)\n",
    "* 3) well, at the output we have code_vector and the second vector-probability distribution between all labels in target_vocab(dictionary of method names)"
   ]
  },
  {
   "cell_type": "code",
   "execution_count": null,
   "metadata": {
    "colab": {},
    "colab_type": "code",
    "id": "WctOcjFevCYv"
   },
   "outputs": [],
   "source": [
    "# path_for_train = 'data/functions_emb/functions_emb.train.c2v'\n",
    "path_for_train = 'data/CODES_emb/CODES_emb.train.c2v'\n",
    "train_dataset = data_to_tensors.TextDataset(path_for_train, \n",
    "                                                    word2idx, \n",
    "                                                    path2idx, \n",
    "                                                    target2idx)\n",
    "\n",
    "# path_for_val = 'data/functions_emb/functions_emb.val.c2v'\n",
    "path_for_val = 'data/CODES_emb/CODES_emb.val.c2v'\n",
    "val_dataset = data_to_tensors.TextDataset(path_for_val, \n",
    "                                                    word2idx, \n",
    "                                                    path2idx, \n",
    "                                                    target2idx)\n",
    "# path_for_test = 'data/functions_emb/functions_emb.test.c2v'\n",
    "path_for_test = 'data/CODES_emb/CODES_emb.test.c2v'\n",
    "test_dataset = data_to_tensors.TextDataset(path_for_test, \n",
    "                                                    word2idx, \n",
    "                                                    path2idx, \n",
    "                                                    target2idx)\n",
    "\n",
    "train_loader = DataLoader(train_dataset, batch_size=512, shuffle=True)\n",
    "val_loader = DataLoader(val_dataset, batch_size=512, shuffle=False)\n",
    "test_loader = DataLoader(test_dataset, batch_size=512, shuffle=False)"
   ]
  },
  {
   "cell_type": "markdown",
   "metadata": {
    "colab_type": "text",
    "id": "rQx0PLsMopZ1"
   },
   "source": [
    "# Train"
   ]
  },
  {
   "cell_type": "code",
   "execution_count": null,
   "metadata": {
    "colab": {},
    "colab_type": "code",
    "id": "DGiy8Phzhk3w"
   },
   "outputs": [],
   "source": [
    "SEED = 1337\n",
    "random.seed(SEED)\n",
    "torch.manual_seed(SEED)\n",
    "torch.cuda.manual_seed(SEED)\n",
    "torch.backends.cudnn.deterministic = True"
   ]
  },
  {
   "cell_type": "markdown",
   "metadata": {
    "colab_type": "text",
    "id": "vHHx7d61Cmgt"
   },
   "source": [
    "# Model choose\n",
    "\n",
    "* if you want to use the original model: bert = False\n",
    "* if you want to use Bert model: bert = True\n"
   ]
  },
  {
   "cell_type": "code",
   "execution_count": null,
   "metadata": {
    "colab": {},
    "colab_type": "code",
    "id": "qcu360GpE_eA"
   },
   "outputs": [],
   "source": [
    "bert = True"
   ]
  },
  {
   "cell_type": "code",
   "execution_count": null,
   "metadata": {
    "colab": {},
    "colab_type": "code",
    "id": "e8jnWVAnDEz1"
   },
   "outputs": [],
   "source": [
    "# In case of bert\n",
    "bert_params = dict()\n",
    "bert_params['num_attention_heads'] = 1\n",
    "bert_params['num_transformer_layers'] = 1\n",
    "bert_params['intermediate_size'] = 32\n",
    "\n",
    "if bert:\n",
    "    model = model_implementation.code2vec_model(values_vocab_size = len(word2idx), \n",
    "                             paths_vocab_size = len(path2idx), \n",
    "                             labels_num = len(target2idx), bert=bert, bert_params=bert_params)"
   ]
  },
  {
   "cell_type": "code",
   "execution_count": null,
   "metadata": {
    "colab": {},
    "colab_type": "code",
    "id": "UUd5Yv3fmrBQ"
   },
   "outputs": [],
   "source": [
    "# In case if not bert\n",
    "if not bert:\n",
    "    model = model_implementation.code2vec_model(values_vocab_size = len(word2idx), \n",
    "                                 paths_vocab_size = len(path2idx), \n",
    "                                 labels_num = len(target2idx))"
   ]
  },
  {
   "cell_type": "code",
   "execution_count": null,
   "metadata": {
    "colab": {
     "base_uri": "https://localhost:8080/",
     "height": 84
    },
    "colab_type": "code",
    "id": "CPVWRPDmmyUQ",
    "outputId": "a2fdd942-1512-4ba4-e99e-288b7eae342a"
   },
   "outputs": [
    {
     "name": "stdout",
     "output_type": "stream",
     "text": [
      "Epoch 1: train loss - 1.02869, validation loss - 1.42588\n",
      "\t Validation: precision - 0.375, recall - 0.375, f1_score - 0.375\n",
      "Elapsed time: 6.352\n",
      "----------------------------------------------------------------------\n",
      "Epoch 2: train loss - 0.98501, validation loss - 1.34533\n",
      "\t Validation: precision - 0.39062, recall - 0.39062, f1_score - 0.39062\n",
      "Elapsed time: 5.852\n",
      "----------------------------------------------------------------------\n",
      "Epoch 3: train loss - 0.86206, validation loss - 1.07168\n",
      "\t Validation: precision - 0.65625, recall - 0.65625, f1_score - 0.65625\n",
      "Elapsed time: 5.675\n",
      "----------------------------------------------------------------------\n",
      "Epoch 4: train loss - 0.64577, validation loss - 0.84775\n",
      "\t Validation: precision - 0.79687, recall - 0.79687, f1_score - 0.79687\n",
      "Elapsed time: 5.494\n",
      "----------------------------------------------------------------------\n",
      "Epoch 5: train loss - 0.59859, validation loss - 0.85881\n",
      "\t Validation: precision - 0.79687, recall - 0.79687, f1_score - 0.79687\n",
      "Elapsed time: 5.835\n",
      "----------------------------------------------------------------------\n",
      "Epoch 6: train loss - 0.48684, validation loss - 0.72145\n",
      "\t Validation: precision - 0.85937, recall - 0.85937, f1_score - 0.85937\n",
      "Elapsed time: 5.645\n",
      "----------------------------------------------------------------------\n",
      "Epoch 7: train loss - 0.39998, validation loss - 0.62914\n",
      "\t Validation: precision - 0.875, recall - 0.875, f1_score - 0.875\n",
      "Elapsed time: 5.546\n",
      "----------------------------------------------------------------------\n",
      "Epoch 8: train loss - 0.27773, validation loss - 0.51428\n",
      "\t Validation: precision - 0.89062, recall - 0.89062, f1_score - 0.89062\n",
      "Elapsed time: 5.665\n",
      "----------------------------------------------------------------------\n",
      "Epoch 9: train loss - 0.2219, validation loss - 0.49375\n",
      "\t Validation: precision - 0.90625, recall - 0.90625, f1_score - 0.90625\n",
      "Elapsed time: 5.492\n",
      "----------------------------------------------------------------------\n",
      "Epoch 10: train loss - 0.16979, validation loss - 0.49834\n",
      "\t Validation: precision - 0.92187, recall - 0.92187, f1_score - 0.92187\n",
      "Elapsed time: 5.395\n",
      "----------------------------------------------------------------------\n",
      "Epoch 11: train loss - 0.16737, validation loss - 0.48206\n",
      "\t Validation: precision - 0.9375, recall - 0.9375, f1_score - 0.9375\n",
      "Elapsed time: 5.499\n",
      "----------------------------------------------------------------------\n",
      "Epoch 12: train loss - 0.1096, validation loss - 0.42827\n",
      "\t Validation: precision - 0.9375, recall - 0.9375, f1_score - 0.9375\n",
      "Elapsed time: 5.656\n",
      "----------------------------------------------------------------------\n",
      "Epoch 13: train loss - 0.08272, validation loss - 0.44803\n",
      "\t Validation: precision - 0.9375, recall - 0.9375, f1_score - 0.9375\n",
      "Elapsed time: 5.449\n",
      "----------------------------------------------------------------------\n",
      "Epoch 14: train loss - 0.08426, validation loss - 0.45384\n",
      "\t Validation: precision - 0.9375, recall - 0.9375, f1_score - 0.9375\n",
      "Elapsed time: 6.602\n",
      "----------------------------------------------------------------------\n",
      "Epoch 15: train loss - 0.05686, validation loss - 0.45538\n",
      "\t Validation: precision - 0.9375, recall - 0.9375, f1_score - 0.9375\n",
      "Elapsed time: 5.483\n",
      "----------------------------------------------------------------------\n",
      "Epoch 16: train loss - 0.04836, validation loss - 0.4623\n",
      "\t Validation: precision - 0.9375, recall - 0.9375, f1_score - 0.9375\n",
      "Elapsed time: 5.442\n",
      "----------------------------------------------------------------------\n",
      "Epoch 17: train loss - 0.03495, validation loss - 0.47977\n",
      "\t Validation: precision - 0.9375, recall - 0.9375, f1_score - 0.9375\n",
      "Elapsed time: 5.427\n",
      "----------------------------------------------------------------------\n",
      "Epoch 18: train loss - 0.03734, validation loss - 0.49189\n",
      "\t Validation: precision - 0.9375, recall - 0.9375, f1_score - 0.9375\n",
      "Elapsed time: 5.410\n",
      "----------------------------------------------------------------------\n",
      "Epoch 19: train loss - 0.03623, validation loss - 0.49413\n",
      "\t Validation: precision - 0.9375, recall - 0.9375, f1_score - 0.9375\n",
      "Elapsed time: 5.494\n",
      "----------------------------------------------------------------------\n",
      "Epoch 20: train loss - 0.03186, validation loss - 0.49936\n",
      "\t Validation: precision - 0.9375, recall - 0.9375, f1_score - 0.9375\n",
      "Elapsed time: 6.464\n",
      "----------------------------------------------------------------------\n",
      "Epoch 21: train loss - 0.0183, validation loss - 0.51357\n",
      "\t Validation: precision - 0.9375, recall - 0.9375, f1_score - 0.9375\n",
      "Elapsed time: 7.078\n",
      "----------------------------------------------------------------------\n",
      "Epoch 22: train loss - 0.01611, validation loss - 0.52105\n",
      "\t Validation: precision - 0.9375, recall - 0.9375, f1_score - 0.9375\n",
      "Elapsed time: 5.642\n",
      "----------------------------------------------------------------------\n",
      "Epoch 23: train loss - 0.05221, validation loss - 0.52715\n",
      "\t Validation: precision - 0.9375, recall - 0.9375, f1_score - 0.9375\n",
      "Elapsed time: 6.691\n",
      "----------------------------------------------------------------------\n",
      "Epoch 24: train loss - 0.03088, validation loss - 0.53076\n",
      "\t Validation: precision - 0.9375, recall - 0.9375, f1_score - 0.9375\n",
      "Elapsed time: 6.496\n",
      "----------------------------------------------------------------------\n",
      "Epoch 25: train loss - 0.00943, validation loss - 0.53717\n",
      "\t Validation: precision - 0.9375, recall - 0.9375, f1_score - 0.9375\n",
      "Elapsed time: 5.827\n",
      "----------------------------------------------------------------------\n",
      "Epoch 26: train loss - 0.04567, validation loss - 0.53511\n",
      "\t Validation: precision - 0.9375, recall - 0.9375, f1_score - 0.9375\n",
      "Elapsed time: 5.729\n",
      "----------------------------------------------------------------------\n",
      "Epoch 27: train loss - 0.0207, validation loss - 0.53188\n",
      "\t Validation: precision - 0.9375, recall - 0.9375, f1_score - 0.9375\n",
      "Elapsed time: 5.721\n",
      "----------------------------------------------------------------------\n",
      "Epoch 28: train loss - 0.02092, validation loss - 0.52924\n",
      "\t Validation: precision - 0.9375, recall - 0.9375, f1_score - 0.9375\n",
      "Elapsed time: 5.409\n",
      "----------------------------------------------------------------------\n",
      "Epoch 29: train loss - 0.01786, validation loss - 0.53373\n",
      "\t Validation: precision - 0.9375, recall - 0.9375, f1_score - 0.9375\n",
      "Elapsed time: 5.302\n",
      "----------------------------------------------------------------------\n",
      "Epoch 30: train loss - 0.0054, validation loss - 0.54185\n",
      "\t Validation: precision - 0.9375, recall - 0.9375, f1_score - 0.9375\n",
      "Elapsed time: 5.317\n",
      "----------------------------------------------------------------------\n",
      "Epoch 31: train loss - 0.02331, validation loss - 0.55456\n",
      "\t Validation: precision - 0.9375, recall - 0.9375, f1_score - 0.9375\n",
      "Elapsed time: 5.448\n",
      "----------------------------------------------------------------------\n",
      "Epoch 32: train loss - 0.00792, validation loss - 0.56355\n",
      "\t Validation: precision - 0.9375, recall - 0.9375, f1_score - 0.9375\n",
      "Elapsed time: 5.221\n",
      "----------------------------------------------------------------------\n",
      "Epoch 33: train loss - 0.01018, validation loss - 0.56607\n",
      "\t Validation: precision - 0.9375, recall - 0.9375, f1_score - 0.9375\n",
      "Elapsed time: 5.186\n",
      "----------------------------------------------------------------------\n",
      "Epoch 34: train loss - 0.00831, validation loss - 0.56588\n",
      "\t Validation: precision - 0.9375, recall - 0.9375, f1_score - 0.9375\n",
      "Elapsed time: 5.281\n",
      "----------------------------------------------------------------------\n",
      "Epoch 35: train loss - 0.01789, validation loss - 0.56539\n",
      "\t Validation: precision - 0.9375, recall - 0.9375, f1_score - 0.9375\n",
      "Elapsed time: 5.233\n",
      "----------------------------------------------------------------------\n",
      "Epoch 36: train loss - 0.00828, validation loss - 0.57472\n",
      "\t Validation: precision - 0.9375, recall - 0.9375, f1_score - 0.9375\n",
      "Elapsed time: 5.163\n",
      "----------------------------------------------------------------------\n",
      "Epoch 37: train loss - 0.01818, validation loss - 0.57915\n",
      "\t Validation: precision - 0.9375, recall - 0.9375, f1_score - 0.9375\n",
      "Elapsed time: 5.191\n",
      "----------------------------------------------------------------------\n",
      "Epoch 38: train loss - 0.02162, validation loss - 0.56946\n",
      "\t Validation: precision - 0.9375, recall - 0.9375, f1_score - 0.9375\n",
      "Elapsed time: 5.176\n",
      "----------------------------------------------------------------------\n",
      "Epoch 39: train loss - 0.00682, validation loss - 0.56736\n",
      "\t Validation: precision - 0.9375, recall - 0.9375, f1_score - 0.9375\n",
      "Elapsed time: 5.274\n",
      "----------------------------------------------------------------------\n",
      "Epoch 40: train loss - 0.01889, validation loss - 0.56654\n",
      "\t Validation: precision - 0.9375, recall - 0.9375, f1_score - 0.9375\n",
      "Elapsed time: 5.404\n",
      "----------------------------------------------------------------------\n"
     ]
    }
   ],
   "source": [
    "N_EPOCHS = 40\n",
    "LR = 3e-3\n",
    "WD = 0.8e-5\n",
    "\n",
    "optimizer = torch.optim.Adam(model.parameters(), lr=LR, weight_decay=WD)\n",
    "criterion = nn.CrossEntropyLoss()\n",
    "\n",
    "train_class = TrainingModule(model, optimizer, criterion, train_loader, val_loader, test_loader, N_EPOCHS, idx2target)\n",
    "list_train_loss, list_val_loss, list_train_precision, list_val_precision,list_train_recall, list_val_recall, list_train_f1, list_val_f1 = train_class.train(bert, 'CODES_emb')\n"
   ]
  },
  {
   "cell_type": "markdown",
   "metadata": {
    "colab_type": "text",
    "id": "NlFzvQyPFWZ8"
   },
   "source": [
    "# Predict and show names!"
   ]
  },
  {
   "cell_type": "markdown",
   "metadata": {
    "colab_type": "text",
    "id": "OAjRth0XFhWY"
   },
   "source": [
    "Go to weights of our models in order to take a view on how they pridect names: https://drive.google.com/drive/u/2/folders/1Q5ixv8dQ_qYqHg6w4Ep_XNeCJYZE6Cl2"
   ]
  },
  {
   "cell_type": "markdown",
   "metadata": {
    "colab_type": "text",
    "id": "oWqc2-P5FvSa"
   },
   "source": [
    "You need to:\n",
    "* Visit the above Drive folder.\n",
    "* Right click on folder name -> \"Add a shortcut to Drive\" -> select \"My Drive\" -> \"Add shortcut\"."
   ]
  },
  {
   "cell_type": "markdown",
   "metadata": {
    "colab_type": "text",
    "id": "iejx5jtCGESn"
   },
   "source": [
    "### Have an access to these weights"
   ]
  },
  {
   "cell_type": "code",
   "execution_count": null,
   "metadata": {
    "colab": {
     "base_uri": "https://localhost:8080/",
     "height": 121
    },
    "colab_type": "code",
    "id": "vyqDgtuYFadi",
    "outputId": "e369de0e-6296-4918-d015-6d790380f08d"
   },
   "outputs": [],
   "source": [
    "# Detect if we are in Google Colaboratory\n",
    "try:\n",
    "    import google.colab\n",
    "    IN_COLAB = True\n",
    "except ImportError:\n",
    "    IN_COLAB = False\n",
    "\n",
    "from pathlib import Path\n",
    "# Determine the locations of auxiliary libraries and datasets.\n",
    "# `AUX_DATA_ROOT` is where 'notmnist.py', 'animation.py' and 'tiny-imagenet-2020.zip' are.\n",
    "if IN_COLAB:\n",
    "    google.colab.drive.mount(\"/content/drive/\")\n",
    "    \n",
    "    # Change this if you created the shortcut in a different location\n",
    "    AUX_DATA_ROOT = Path(\"/content/drive/My Drive/best_models/\")\n",
    "    \n",
    "    assert AUX_DATA_ROOT.is_dir(), \"Have you forgot to 'Add a shortcut to Drive'?\"\n",
    "else:\n",
    "    AUX_DATA_ROOT = Path(\".\")"
   ]
  },
  {
   "cell_type": "markdown",
   "metadata": {
    "colab_type": "text",
    "id": "tvPBQ6ioGMym"
   },
   "source": [
    "#### DEFINE model\n",
    "* If you want to test original paper model:"
   ]
  },
  {
   "cell_type": "code",
   "execution_count": null,
   "metadata": {
    "colab": {
     "base_uri": "https://localhost:8080/",
     "height": 34
    },
    "colab_type": "code",
    "id": "cpv6b0XDFagA",
    "outputId": "02f9f970-825e-43fa-8b46-46c6ae7f8ade"
   },
   "outputs": [],
   "source": [
    "if bert == False:\n",
    "  state_dict = torch.load('/Users/alishbahiqbal/Desktop/c2v_pytorch/Code2vec_Pytorch_pipeline/a3_q1_emb_article_model.pth')\n",
    "else:\n",
    "  state_dict = torch.load('/Users/alishbahiqbal/Desktop/c2v_pytorch/Code2vec_Pytorch_pipeline/CODES_emb_bert_model.pth')\n",
    "\n",
    "model.load_state_dict(state_dict)\n",
    "\n",
    "DEVICE = torch.device(\"cuda:0\" if torch.cuda.is_available() else \"cpu\")\n",
    "\n",
    "model = model.to(DEVICE)"
   ]
  },
  {
   "cell_type": "markdown",
   "metadata": {
    "colab_type": "text",
    "id": "KS-EkP8-GeHm"
   },
   "source": [
    "#### Let's test it on the test dataset"
   ]
  },
  {
   "cell_type": "markdown",
   "metadata": {
    "colab_type": "text",
    "id": "p-zCjrkoP34o"
   },
   "source": [
    "#  \\<UNK\\> means that this name doen't exist in our dictionary of labels:("
   ]
  },
  {
   "cell_type": "code",
   "execution_count": null,
   "metadata": {
    "colab": {
     "base_uri": "https://localhost:8080/",
     "height": 455
    },
    "colab_type": "code",
    "id": "MaxEcfskFan8",
    "outputId": "3deced73-6333-4212-b600-f56a8c9a88f3"
   },
   "outputs": [
    {
     "name": "stderr",
     "output_type": "stream",
     "text": [
      "/opt/anaconda3/envs/fyp/lib/python3.7/site-packages/ipykernel_launcher.py:10: UserWarning: Implicit dimension choice for softmax has been deprecated. Change the call to include dim=X as an argument.\n",
      "  # Remove the CWD from sys.path while we load stuff.\n"
     ]
    },
    {
     "data": {
      "text/html": [
       "<div>\n",
       "<style scoped>\n",
       "    .dataframe tbody tr th:only-of-type {\n",
       "        vertical-align: middle;\n",
       "    }\n",
       "\n",
       "    .dataframe tbody tr th {\n",
       "        vertical-align: top;\n",
       "    }\n",
       "\n",
       "    .dataframe thead th {\n",
       "        text-align: right;\n",
       "    }\n",
       "</style>\n",
       "<table border=\"1\" class=\"dataframe\">\n",
       "  <thead>\n",
       "    <tr style=\"text-align: right;\">\n",
       "      <th></th>\n",
       "      <th>Original names</th>\n",
       "      <th>Predicted names</th>\n",
       "    </tr>\n",
       "  </thead>\n",
       "  <tbody>\n",
       "    <tr>\n",
       "      <th>0</th>\n",
       "      <td>&lt;unk&gt;</td>\n",
       "      <td>7</td>\n",
       "    </tr>\n",
       "    <tr>\n",
       "      <th>1</th>\n",
       "      <td>10</td>\n",
       "      <td>7</td>\n",
       "    </tr>\n",
       "    <tr>\n",
       "      <th>2</th>\n",
       "      <td>10</td>\n",
       "      <td>7</td>\n",
       "    </tr>\n",
       "    <tr>\n",
       "      <th>3</th>\n",
       "      <td>7</td>\n",
       "      <td>7</td>\n",
       "    </tr>\n",
       "    <tr>\n",
       "      <th>4</th>\n",
       "      <td>7</td>\n",
       "      <td>7</td>\n",
       "    </tr>\n",
       "    <tr>\n",
       "      <th>...</th>\n",
       "      <td>...</td>\n",
       "      <td>...</td>\n",
       "    </tr>\n",
       "    <tr>\n",
       "      <th>59</th>\n",
       "      <td>10</td>\n",
       "      <td>10</td>\n",
       "    </tr>\n",
       "    <tr>\n",
       "      <th>60</th>\n",
       "      <td>2</td>\n",
       "      <td>7</td>\n",
       "    </tr>\n",
       "    <tr>\n",
       "      <th>61</th>\n",
       "      <td>7</td>\n",
       "      <td>7</td>\n",
       "    </tr>\n",
       "    <tr>\n",
       "      <th>62</th>\n",
       "      <td>10</td>\n",
       "      <td>7</td>\n",
       "    </tr>\n",
       "    <tr>\n",
       "      <th>63</th>\n",
       "      <td>7</td>\n",
       "      <td>7</td>\n",
       "    </tr>\n",
       "  </tbody>\n",
       "</table>\n",
       "<p>64 rows × 2 columns</p>\n",
       "</div>"
      ],
      "text/plain": [
       "   Original names Predicted names\n",
       "0           <unk>               7\n",
       "1              10               7\n",
       "2              10               7\n",
       "3               7               7\n",
       "4               7               7\n",
       "..            ...             ...\n",
       "59             10              10\n",
       "60              2               7\n",
       "61              7               7\n",
       "62             10               7\n",
       "63              7               7\n",
       "\n",
       "[64 rows x 2 columns]"
      ]
     },
     "metadata": {},
     "output_type": "display_data"
    }
   ],
   "source": [
    "import pandas as pd\n",
    "from IPython.display import display\n",
    "\n",
    "d = {'Original names': [], 'Predicted names': []}\n",
    "\n",
    "for start, path, end, label in iter(test_loader):\n",
    "    # get from model\n",
    "    code, y_pred = model(start.to(DEVICE), path.to(DEVICE), end.to(DEVICE))\n",
    "    # get probability\n",
    "    y_pred = F.softmax(y_pred)\n",
    "    # get best name index\n",
    "    y_pred = torch.argmax(y_pred, dim = 1)\n",
    "    \n",
    "    for i, j in zip(label, y_pred):\n",
    "      d['Original names'].append(idx2target[i.item()])\n",
    "      d['Predicted names'].append(idx2target[j.item()])\n",
    "    break\n",
    "\n",
    "df = pd.DataFrame(data=d)\n",
    "display(df,)"
   ]
  },
  {
   "cell_type": "code",
   "execution_count": null,
   "metadata": {},
   "outputs": [
    {
     "name": "stdout",
     "output_type": "stream",
     "text": [
      "   Original names Predicted names\n",
      "0           <unk>               7\n",
      "1              10               7\n",
      "2              10               7\n",
      "3               7               7\n",
      "4               7               7\n",
      "5              10               7\n",
      "6               7              10\n",
      "7              10              10\n",
      "8              10               7\n",
      "9               7               7\n",
      "10             10               7\n",
      "11              5               7\n",
      "12             10               7\n",
      "13              7               7\n",
      "14             10               7\n",
      "15              7               7\n",
      "16             10               7\n",
      "17             10               7\n",
      "18             10               7\n",
      "19              7               7\n",
      "20              7               7\n",
      "21             10               7\n",
      "22              5               7\n",
      "23             10               7\n",
      "24             10               7\n",
      "25              7               7\n",
      "26              7               7\n",
      "27             10               7\n",
      "28             10              10\n",
      "29              7               7\n",
      "30             10               7\n",
      "31              7               7\n",
      "32             10               7\n",
      "33              7               7\n",
      "34              7               7\n",
      "35              7               7\n",
      "36             10               7\n",
      "37              7               7\n",
      "38             10               7\n",
      "39              7              10\n",
      "40              7               7\n",
      "41             10               7\n",
      "42              7               7\n",
      "43             10              10\n",
      "44             10               7\n",
      "45             10               7\n",
      "46              7               7\n",
      "47             10               7\n",
      "48              7               7\n",
      "49              2               7\n",
      "50              7               7\n",
      "51             10               7\n",
      "52              7               7\n",
      "53             10               7\n",
      "54              2               7\n",
      "55             10               7\n",
      "56             10               7\n",
      "57              5              10\n",
      "58              7               7\n",
      "59             10              10\n",
      "60              2               7\n",
      "61              7               7\n",
      "62             10               7\n",
      "63              7               7\n"
     ]
    }
   ],
   "source": [
    "with pd.option_context('display.max_rows', 66, 'display.max_columns', 66):  # more options can be specified also\n",
    "    print(df)"
   ]
  },
  {
   "cell_type": "code",
   "execution_count": null,
   "metadata": {},
   "outputs": [],
   "source": []
  }
 ],
 "metadata": {
  "accelerator": "GPU",
  "colab": {
   "collapsed_sections": [],
   "name": "for_test_notebook.ipynb",
   "provenance": [],
   "toc_visible": true
  },
  "kernelspec": {
   "display_name": "Python 3 (ipykernel)",
   "language": "python",
   "name": "python3"
  },
  "language_info": {
   "codemirror_mode": {
    "name": "ipython",
    "version": 3
   },
   "file_extension": ".py",
   "mimetype": "text/x-python",
   "name": "python",
   "nbconvert_exporter": "python",
   "pygments_lexer": "ipython3",
   "version": "3.9.6"
  }
 },
 "nbformat": 4,
 "nbformat_minor": 1
}
